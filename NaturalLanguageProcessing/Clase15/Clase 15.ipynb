{
 "cells": [
  {
   "cell_type": "markdown",
   "metadata": {},
   "source": [
    "# Análisis LDA\n",
    "Módelo simplificado del modelo LDA.\n",
    "Lo utilizaremos para clasificar texto, tomaremos un conjunto de mensajes de texto, del cual tenemos etiquetado para saber si son o no spam y utilizaremos el modelo para clasificar dichos datos.\n",
    "\n",
    "Se ausume que los datos tienen la misma varianza pero diferente media.\n",
    "\n",
    "Para aplicar el algoritmo aplicaremos lo siguiente.\n",
    "\n",
    "- Vamos a calcular el promedio o centroide de todos los vectores TF-IDF de cada clase, por ejemplo de la clase SPAM\n",
    "- Luego calculamos la recta que une los dos centroides, y luego utilizamos el producto punto para calcular la proyeccion de todos los vectores TF-IDF en esta recta\n",
    "- Luego de esa proyeccion, re-escalamos los datos e intentaremos calcular una probabilidad, e.g. ¿ Cual es la probabilidad de que éste dato (X), pertenezca al conjunto SPAM, y cual es la probabilidad de que no pertenezca?"
   ]
  },
  {
   "cell_type": "code",
   "execution_count": 1,
   "metadata": {},
   "outputs": [
    {
     "name": "stdout",
     "output_type": "stream",
     "text": [
      "Requirement already satisfied: nlpia in d:\\program files\\python37\\lib\\site-packages (0.5.2)\n",
      "Requirement already satisfied: nltk in d:\\program files\\python37\\lib\\site-packages (from nlpia) (3.5)\n",
      "Requirement already satisfied: html2text in d:\\program files\\python37\\lib\\site-packages (from nlpia) (2020.1.16)\n",
      "Requirement already satisfied: future in d:\\program files\\python37\\lib\\site-packages (from nlpia) (0.18.2)\n",
      "Requirement already satisfied: gensim in d:\\program files\\python37\\lib\\site-packages (from nlpia) (3.8.3)\n",
      "Requirement already satisfied: plotly in d:\\program files\\python37\\lib\\site-packages (from nlpia) (4.9.0)\n",
      "Requirement already satisfied: matplotlib in d:\\program files\\python37\\lib\\site-packages (from nlpia) (3.3.1)\n",
      "Requirement already satisfied: pypandoc in d:\\program files\\python37\\lib\\site-packages (from nlpia) (1.5)\n",
      "Requirement already satisfied: tensorflow in d:\\program files\\python37\\lib\\site-packages (from nlpia) (2.3.0)\n",
      "Requirement already satisfied: pandas-datareader in d:\\program files\\python37\\lib\\site-packages (from nlpia) (0.9.0)\n",
      "Requirement already satisfied: keras in d:\\program files\\python37\\lib\\site-packages (from nlpia) (2.4.3)\n",
      "Requirement already satisfied: python-Levenshtein in d:\\program files\\python37\\lib\\site-packages (from nlpia) (0.12.0)\n",
      "Requirement already satisfied: scikit-learn in d:\\program files\\python37\\lib\\site-packages (from nlpia) (0.23.2)\n",
      "Requirement already satisfied: h5py in d:\\program files\\python37\\lib\\site-packages (from nlpia) (2.10.0)\n",
      "Requirement already satisfied: spacy in d:\\program files\\python37\\lib\\site-packages (from nlpia) (2.3.2)\n",
      "Requirement already satisfied: tqdm in d:\\program files\\python37\\lib\\site-packages (from nlpia) (4.48.0)\n",
      "Requirement already satisfied: lxml in d:\\program files\\python37\\lib\\site-packages (from nlpia) (4.5.2)\n",
      "Requirement already satisfied: pugnlp in d:\\program files\\python37\\lib\\site-packages (from nlpia) (0.2.6)\n",
      "Requirement already satisfied: jupyter in d:\\program files\\python37\\lib\\site-packages (from nlpia) (1.0.0)\n",
      "Requirement already satisfied: seaborn in d:\\program files\\python37\\lib\\site-packages (from nlpia) (0.10.0)\n",
      "Requirement already satisfied: pandas in d:\\program files\\python37\\lib\\site-packages (from nlpia) (1.0.5)\n",
      "Requirement already satisfied: html5lib in d:\\program files\\python37\\lib\\site-packages (from nlpia) (1.1)\n",
      "Requirement already satisfied: regex in d:\\program files\\python37\\lib\\site-packages (from nlpia) (2020.7.14)\n",
      "Requirement already satisfied: click in d:\\program files\\python37\\lib\\site-packages (from nltk->nlpia) (7.1.2)\n",
      "Requirement already satisfied: joblib in d:\\program files\\python37\\lib\\site-packages (from nltk->nlpia) (0.16.0)\n",
      "Requirement already satisfied: smart-open>=1.8.1 in d:\\program files\\python37\\lib\\site-packages (from gensim->nlpia) (2.1.0)\n",
      "Requirement already satisfied: numpy>=1.11.3 in d:\\program files\\python37\\lib\\site-packages (from gensim->nlpia) (1.18.5)\n",
      "Requirement already satisfied: Cython==0.29.14 in d:\\program files\\python37\\lib\\site-packages (from gensim->nlpia) (0.29.14)\n",
      "Requirement already satisfied: scipy>=0.18.1 in d:\\program files\\python37\\lib\\site-packages (from gensim->nlpia) (1.5.1)\n",
      "Requirement already satisfied: six>=1.5.0 in d:\\program files\\python37\\lib\\site-packages (from gensim->nlpia) (1.15.0)\n",
      "Requirement already satisfied: retrying>=1.3.3 in d:\\program files\\python37\\lib\\site-packages (from plotly->nlpia) (1.3.3)\n",
      "Requirement already satisfied: pyparsing!=2.0.4,!=2.1.2,!=2.1.6,>=2.0.3 in d:\\program files\\python37\\lib\\site-packages (from matplotlib->nlpia) (2.4.7)\n",
      "Requirement already satisfied: certifi>=2020.06.20 in d:\\program files\\python37\\lib\\site-packages (from matplotlib->nlpia) (2020.6.20)\n",
      "Requirement already satisfied: python-dateutil>=2.1 in d:\\program files\\python37\\lib\\site-packages (from matplotlib->nlpia) (2.8.1)\n",
      "Requirement already satisfied: pillow>=6.2.0 in d:\\program files\\python37\\lib\\site-packages (from matplotlib->nlpia) (7.2.0)\n",
      "Requirement already satisfied: cycler>=0.10 in d:\\program files\\python37\\lib\\site-packages (from matplotlib->nlpia) (0.10.0)\n",
      "Requirement already satisfied: kiwisolver>=1.0.1 in d:\\program files\\python37\\lib\\site-packages (from matplotlib->nlpia) (1.2.0)\n",
      "Requirement already satisfied: wheel>=0.25.0 in d:\\program files\\python37\\lib\\site-packages (from pypandoc->nlpia) (0.34.2)\n",
      "Requirement already satisfied: pip>=8.1.0 in d:\\program files\\python37\\lib\\site-packages (from pypandoc->nlpia) (20.2)\n",
      "Requirement already satisfied: setuptools in d:\\program files\\python37\\lib\\site-packages (from pypandoc->nlpia) (41.2.0)\n",
      "Requirement already satisfied: tensorflow-estimator<2.4.0,>=2.3.0 in d:\\program files\\python37\\lib\\site-packages (from tensorflow->nlpia) (2.3.0)\n",
      "Requirement already satisfied: tensorboard<3,>=2.3.0 in d:\\program files\\python37\\lib\\site-packages (from tensorflow->nlpia) (2.3.0)\n",
      "Requirement already satisfied: wrapt>=1.11.1 in d:\\program files\\python37\\lib\\site-packages (from tensorflow->nlpia) (1.12.1)\n",
      "Requirement already satisfied: gast==0.3.3 in d:\\program files\\python37\\lib\\site-packages (from tensorflow->nlpia) (0.3.3)\n",
      "Requirement already satisfied: termcolor>=1.1.0 in d:\\program files\\python37\\lib\\site-packages (from tensorflow->nlpia) (1.1.0)\n",
      "Requirement already satisfied: astunparse==1.6.3 in d:\\program files\\python37\\lib\\site-packages (from tensorflow->nlpia) (1.6.3)\n",
      "Requirement already satisfied: opt-einsum>=2.3.2 in d:\\program files\\python37\\lib\\site-packages (from tensorflow->nlpia) (3.2.1)\n",
      "Requirement already satisfied: google-pasta>=0.1.8 in d:\\program files\\python37\\lib\\site-packages (from tensorflow->nlpia) (0.2.0)\n",
      "Requirement already satisfied: keras-preprocessing<1.2,>=1.1.1 in d:\\program files\\python37\\lib\\site-packages (from tensorflow->nlpia) (1.1.2)\n",
      "Requirement already satisfied: grpcio>=1.8.6 in d:\\program files\\python37\\lib\\site-packages (from tensorflow->nlpia) (1.29.0)\n",
      "Requirement already satisfied: absl-py>=0.7.0 in d:\\program files\\python37\\lib\\site-packages (from tensorflow->nlpia) (0.9.0)\n",
      "Requirement already satisfied: protobuf>=3.9.2 in d:\\program files\\python37\\lib\\site-packages (from tensorflow->nlpia) (3.12.2)\n",
      "Requirement already satisfied: requests>=2.19.0 in d:\\program files\\python37\\lib\\site-packages (from pandas-datareader->nlpia) (2.23.0)\n",
      "Requirement already satisfied: pyyaml in d:\\program files\\python37\\lib\\site-packages (from keras->nlpia) (5.3.1)\n",
      "Requirement already satisfied: threadpoolctl>=2.0.0 in d:\\program files\\python37\\lib\\site-packages (from scikit-learn->nlpia) (2.1.0)\n",
      "Requirement already satisfied: murmurhash<1.1.0,>=0.28.0 in d:\\program files\\python37\\lib\\site-packages (from spacy->nlpia) (1.0.2)\n",
      "Requirement already satisfied: preshed<3.1.0,>=3.0.2 in d:\\program files\\python37\\lib\\site-packages (from spacy->nlpia) (3.0.2)\n",
      "Requirement already satisfied: wasabi<1.1.0,>=0.4.0 in d:\\program files\\python37\\lib\\site-packages (from spacy->nlpia) (0.7.1)\n",
      "Requirement already satisfied: catalogue<1.1.0,>=0.0.7 in d:\\program files\\python37\\lib\\site-packages (from spacy->nlpia) (1.0.0)\n",
      "Requirement already satisfied: cymem<2.1.0,>=2.0.2 in d:\\program files\\python37\\lib\\site-packages (from spacy->nlpia) (2.0.3)\n",
      "Requirement already satisfied: srsly<1.1.0,>=1.0.2 in d:\\program files\\python37\\lib\\site-packages (from spacy->nlpia) (1.0.2)\n",
      "Requirement already satisfied: thinc==7.4.1 in d:\\program files\\python37\\lib\\site-packages (from spacy->nlpia) (7.4.1)\n",
      "Requirement already satisfied: blis<0.5.0,>=0.4.0 in d:\\program files\\python37\\lib\\site-packages (from spacy->nlpia) (0.4.1)\n",
      "Requirement already satisfied: plac<1.2.0,>=0.9.6 in d:\\program files\\python37\\lib\\site-packages (from spacy->nlpia) (1.1.3)\n",
      "Requirement already satisfied: python-slugify in d:\\program files\\python37\\lib\\site-packages (from pugnlp->nlpia) (4.0.1)\n",
      "Requirement already satisfied: fuzzywuzzy in d:\\program files\\python37\\lib\\site-packages (from pugnlp->nlpia) (0.18.0)\n",
      "Requirement already satisfied: coverage in d:\\program files\\python37\\lib\\site-packages (from pugnlp->nlpia) (5.2.1)\n",
      "Requirement already satisfied: jupyter-console in d:\\program files\\python37\\lib\\site-packages (from jupyter->nlpia) (6.1.0)\n",
      "Requirement already satisfied: ipywidgets in d:\\program files\\python37\\lib\\site-packages (from jupyter->nlpia) (7.5.1)\n",
      "Requirement already satisfied: ipykernel in d:\\program files\\python37\\lib\\site-packages (from jupyter->nlpia) (5.3.3)\n",
      "Requirement already satisfied: notebook in d:\\program files\\python37\\lib\\site-packages (from jupyter->nlpia) (6.0.3)\n",
      "Requirement already satisfied: nbconvert in d:\\program files\\python37\\lib\\site-packages (from jupyter->nlpia) (5.6.1)\n",
      "Requirement already satisfied: qtconsole in d:\\program files\\python37\\lib\\site-packages (from jupyter->nlpia) (4.7.5)\n",
      "Requirement already satisfied: pytz>=2017.2 in d:\\program files\\python37\\lib\\site-packages (from pandas->nlpia) (2020.1)\n",
      "Requirement already satisfied: webencodings in d:\\program files\\python37\\lib\\site-packages (from html5lib->nlpia) (0.5.1)\n",
      "Requirement already satisfied: boto3 in d:\\program files\\python37\\lib\\site-packages (from smart-open>=1.8.1->gensim->nlpia) (1.14.32)\n",
      "Requirement already satisfied: boto in d:\\program files\\python37\\lib\\site-packages (from smart-open>=1.8.1->gensim->nlpia) (2.49.0)"
     ]
    },
    {
     "name": "stderr",
     "output_type": "stream",
     "text": [
      "WARNING: You are using pip version 20.2; however, version 20.2.2 is available.\n",
      "You should consider upgrading via the 'd:\\program files\\python37\\python.exe -m pip install --upgrade pip' command.\n"
     ]
    },
    {
     "name": "stdout",
     "output_type": "stream",
     "text": [
      "\n",
      "Requirement already satisfied: tensorboard-plugin-wit>=1.6.0 in d:\\program files\\python37\\lib\\site-packages (from tensorboard<3,>=2.3.0->tensorflow->nlpia) (1.6.0.post3)\n",
      "Requirement already satisfied: werkzeug>=0.11.15 in d:\\program files\\python37\\lib\\site-packages (from tensorboard<3,>=2.3.0->tensorflow->nlpia) (1.0.1)\n",
      "Requirement already satisfied: google-auth-oauthlib<0.5,>=0.4.1 in d:\\program files\\python37\\lib\\site-packages (from tensorboard<3,>=2.3.0->tensorflow->nlpia) (0.4.1)\n",
      "Requirement already satisfied: markdown>=2.6.8 in d:\\program files\\python37\\lib\\site-packages (from tensorboard<3,>=2.3.0->tensorflow->nlpia) (3.2.2)\n",
      "Requirement already satisfied: google-auth<2,>=1.6.3 in d:\\program files\\python37\\lib\\site-packages (from tensorboard<3,>=2.3.0->tensorflow->nlpia) (1.16.1)\n",
      "Requirement already satisfied: urllib3!=1.25.0,!=1.25.1,<1.26,>=1.21.1 in d:\\program files\\python37\\lib\\site-packages (from requests>=2.19.0->pandas-datareader->nlpia) (1.25.9)\n",
      "Requirement already satisfied: idna<3,>=2.5 in d:\\program files\\python37\\lib\\site-packages (from requests>=2.19.0->pandas-datareader->nlpia) (2.9)\n",
      "Requirement already satisfied: chardet<4,>=3.0.2 in d:\\program files\\python37\\lib\\site-packages (from requests>=2.19.0->pandas-datareader->nlpia) (3.0.4)\n",
      "Requirement already satisfied: importlib-metadata>=0.20; python_version < \"3.8\" in d:\\program files\\python37\\lib\\site-packages (from catalogue<1.1.0,>=0.0.7->spacy->nlpia) (1.6.1)\n",
      "Requirement already satisfied: text-unidecode>=1.3 in d:\\program files\\python37\\lib\\site-packages (from python-slugify->pugnlp->nlpia) (1.3)\n",
      "Requirement already satisfied: prompt-toolkit!=3.0.0,!=3.0.1,<3.1.0,>=2.0.0 in d:\\program files\\python37\\lib\\site-packages (from jupyter-console->jupyter->nlpia) (3.0.5)\n",
      "Requirement already satisfied: ipython in d:\\program files\\python37\\lib\\site-packages (from jupyter-console->jupyter->nlpia) (7.16.1)\n",
      "Requirement already satisfied: jupyter-client in d:\\program files\\python37\\lib\\site-packages (from jupyter-console->jupyter->nlpia) (6.1.6)\n",
      "Requirement already satisfied: pygments in d:\\program files\\python37\\lib\\site-packages (from jupyter-console->jupyter->nlpia) (2.6.1)\n",
      "Requirement already satisfied: widgetsnbextension~=3.5.0 in d:\\program files\\python37\\lib\\site-packages (from ipywidgets->jupyter->nlpia) (3.5.1)\n",
      "Requirement already satisfied: nbformat>=4.2.0 in d:\\program files\\python37\\lib\\site-packages (from ipywidgets->jupyter->nlpia) (5.0.7)\n",
      "Requirement already satisfied: traitlets>=4.3.1 in d:\\program files\\python37\\lib\\site-packages (from ipywidgets->jupyter->nlpia) (4.3.3)\n",
      "Requirement already satisfied: tornado>=4.2 in d:\\program files\\python37\\lib\\site-packages (from ipykernel->jupyter->nlpia) (6.0.4)\n",
      "Requirement already satisfied: prometheus-client in d:\\program files\\python37\\lib\\site-packages (from notebook->jupyter->nlpia) (0.8.0)\n",
      "Requirement already satisfied: jinja2 in d:\\program files\\python37\\lib\\site-packages (from notebook->jupyter->nlpia) (2.11.2)\n",
      "Requirement already satisfied: Send2Trash in d:\\program files\\python37\\lib\\site-packages (from notebook->jupyter->nlpia) (1.5.0)\n",
      "Requirement already satisfied: jupyter-core>=4.6.1 in d:\\program files\\python37\\lib\\site-packages (from notebook->jupyter->nlpia) (4.6.3)\n",
      "Requirement already satisfied: terminado>=0.8.1 in d:\\program files\\python37\\lib\\site-packages (from notebook->jupyter->nlpia) (0.8.3)\n",
      "Requirement already satisfied: pyzmq>=17 in d:\\program files\\python37\\lib\\site-packages (from notebook->jupyter->nlpia) (19.0.1)\n",
      "Requirement already satisfied: ipython-genutils in d:\\program files\\python37\\lib\\site-packages (from notebook->jupyter->nlpia) (0.2.0)\n",
      "Requirement already satisfied: bleach in d:\\program files\\python37\\lib\\site-packages (from nbconvert->jupyter->nlpia) (3.1.5)\n",
      "Requirement already satisfied: entrypoints>=0.2.2 in d:\\program files\\python37\\lib\\site-packages (from nbconvert->jupyter->nlpia) (0.3)\n",
      "Requirement already satisfied: mistune<2,>=0.8.1 in d:\\program files\\python37\\lib\\site-packages (from nbconvert->jupyter->nlpia) (0.8.4)\n",
      "Requirement already satisfied: defusedxml in d:\\program files\\python37\\lib\\site-packages (from nbconvert->jupyter->nlpia) (0.6.0)\n",
      "Requirement already satisfied: pandocfilters>=1.4.1 in d:\\program files\\python37\\lib\\site-packages (from nbconvert->jupyter->nlpia) (1.4.2)\n",
      "Requirement already satisfied: testpath in d:\\program files\\python37\\lib\\site-packages (from nbconvert->jupyter->nlpia) (0.4.4)\n",
      "Requirement already satisfied: qtpy in d:\\program files\\python37\\lib\\site-packages (from qtconsole->jupyter->nlpia) (1.9.0)\n",
      "Requirement already satisfied: jmespath<1.0.0,>=0.7.1 in d:\\program files\\python37\\lib\\site-packages (from boto3->smart-open>=1.8.1->gensim->nlpia) (0.10.0)\n",
      "Requirement already satisfied: s3transfer<0.4.0,>=0.3.0 in d:\\program files\\python37\\lib\\site-packages (from boto3->smart-open>=1.8.1->gensim->nlpia) (0.3.3)\n",
      "Requirement already satisfied: botocore<1.18.0,>=1.17.32 in d:\\program files\\python37\\lib\\site-packages (from boto3->smart-open>=1.8.1->gensim->nlpia) (1.17.32)\n",
      "Requirement already satisfied: requests-oauthlib>=0.7.0 in d:\\program files\\python37\\lib\\site-packages (from google-auth-oauthlib<0.5,>=0.4.1->tensorboard<3,>=2.3.0->tensorflow->nlpia) (1.3.0)\n",
      "Requirement already satisfied: cachetools<5.0,>=2.0.0 in d:\\program files\\python37\\lib\\site-packages (from google-auth<2,>=1.6.3->tensorboard<3,>=2.3.0->tensorflow->nlpia) (4.1.0)\n",
      "Requirement already satisfied: pyasn1-modules>=0.2.1 in d:\\program files\\python37\\lib\\site-packages (from google-auth<2,>=1.6.3->tensorboard<3,>=2.3.0->tensorflow->nlpia) (0.2.8)\n",
      "Requirement already satisfied: rsa<4.1,>=3.1.4 in d:\\program files\\python37\\lib\\site-packages (from google-auth<2,>=1.6.3->tensorboard<3,>=2.3.0->tensorflow->nlpia) (4.0)\n",
      "Requirement already satisfied: zipp>=0.5 in d:\\program files\\python37\\lib\\site-packages (from importlib-metadata>=0.20; python_version < \"3.8\"->catalogue<1.1.0,>=0.0.7->spacy->nlpia) (3.1.0)\n",
      "Requirement already satisfied: wcwidth in d:\\program files\\python37\\lib\\site-packages (from prompt-toolkit!=3.0.0,!=3.0.1,<3.1.0,>=2.0.0->jupyter-console->jupyter->nlpia) (0.2.5)\n",
      "Requirement already satisfied: jedi>=0.10 in d:\\program files\\python37\\lib\\site-packages (from ipython->jupyter-console->jupyter->nlpia) (0.17.2)\n",
      "Requirement already satisfied: pickleshare in d:\\program files\\python37\\lib\\site-packages (from ipython->jupyter-console->jupyter->nlpia) (0.7.5)\n",
      "Requirement already satisfied: colorama; sys_platform == \"win32\" in d:\\program files\\python37\\lib\\site-packages (from ipython->jupyter-console->jupyter->nlpia) (0.4.3)\n",
      "Requirement already satisfied: backcall in d:\\program files\\python37\\lib\\site-packages (from ipython->jupyter-console->jupyter->nlpia) (0.2.0)\n",
      "Requirement already satisfied: decorator in d:\\program files\\python37\\lib\\site-packages (from ipython->jupyter-console->jupyter->nlpia) (4.4.2)\n",
      "Requirement already satisfied: jsonschema!=2.5.0,>=2.4 in d:\\program files\\python37\\lib\\site-packages (from nbformat>=4.2.0->ipywidgets->jupyter->nlpia) (3.2.0)\n",
      "Requirement already satisfied: MarkupSafe>=0.23 in d:\\program files\\python37\\lib\\site-packages (from jinja2->notebook->jupyter->nlpia) (1.1.1)\n",
      "Requirement already satisfied: pywin32>=1.0; sys_platform == \"win32\" in d:\\program files\\python37\\lib\\site-packages (from jupyter-core>=4.6.1->notebook->jupyter->nlpia) (227)\n",
      "Requirement already satisfied: pywinpty>=0.5; os_name == \"nt\" in d:\\program files\\python37\\lib\\site-packages (from terminado>=0.8.1->notebook->jupyter->nlpia) (0.5.7)\n",
      "Requirement already satisfied: packaging in d:\\program files\\python37\\lib\\site-packages (from bleach->nbconvert->jupyter->nlpia) (20.4)\n",
      "Requirement already satisfied: docutils<0.16,>=0.10 in d:\\program files\\python37\\lib\\site-packages (from botocore<1.18.0,>=1.17.32->boto3->smart-open>=1.8.1->gensim->nlpia) (0.15.2)\n",
      "Requirement already satisfied: oauthlib>=3.0.0 in d:\\program files\\python37\\lib\\site-packages (from requests-oauthlib>=0.7.0->google-auth-oauthlib<0.5,>=0.4.1->tensorboard<3,>=2.3.0->tensorflow->nlpia) (3.1.0)\n",
      "Requirement already satisfied: pyasn1<0.5.0,>=0.4.6 in d:\\program files\\python37\\lib\\site-packages (from pyasn1-modules>=0.2.1->google-auth<2,>=1.6.3->tensorboard<3,>=2.3.0->tensorflow->nlpia) (0.4.8)\n",
      "Requirement already satisfied: parso<0.8.0,>=0.7.0 in d:\\program files\\python37\\lib\\site-packages (from jedi>=0.10->ipython->jupyter-console->jupyter->nlpia) (0.7.0)\n",
      "Requirement already satisfied: pyrsistent>=0.14.0 in d:\\program files\\python37\\lib\\site-packages (from jsonschema!=2.5.0,>=2.4->nbformat>=4.2.0->ipywidgets->jupyter->nlpia) (0.16.0)\n",
      "Requirement already satisfied: attrs>=17.4.0 in d:\\program files\\python37\\lib\\site-packages (from jsonschema!=2.5.0,>=2.4->nbformat>=4.2.0->ipywidgets->jupyter->nlpia) (19.3.0)\n"
     ]
    }
   ],
   "source": [
    "!pip install nlpia"
   ]
  },
  {
   "cell_type": "code",
   "execution_count": 2,
   "metadata": {},
   "outputs": [
    {
     "name": "stderr",
     "output_type": "stream",
     "text": [
      "d:\\program files\\python37\\lib\\site-packages\\pugnlp\\constants.py:136: FutureWarning: The pandas.datetime class is deprecated and will be removed from pandas in a future version. Import from datetime module instead.\n",
      "  [datetime.datetime, pd.datetime, pd.Timestamp])\n",
      "d:\\program files\\python37\\lib\\site-packages\\pugnlp\\constants.py:158: FutureWarning: The pandas.datetime class is deprecated and will be removed from pandas in a future version. Import from datetime module instead.\n",
      "  MIN_TIMESTAMP = pd.Timestamp(pd.datetime(1677, 9, 22, 0, 12, 44), tz='utc')\n",
      "d:\\program files\\python37\\lib\\site-packages\\pugnlp\\tutil.py:100: FutureWarning: The pandas.np module is deprecated and will be removed from pandas in a future version. Import numpy directly instead\n",
      "  np = pd.np\n",
      "d:\\program files\\python37\\lib\\site-packages\\pugnlp\\util.py:80: FutureWarning: The pandas.np module is deprecated and will be removed from pandas in a future version. Import numpy directly instead\n",
      "  np = pd.np\n",
      "INFO:nlpia.constants:Starting logger in nlpia.constants...\n",
      "d:\\program files\\python37\\lib\\site-packages\\nlpia\\futil.py:30: FutureWarning: The pandas.np module is deprecated and will be removed from pandas in a future version. Import numpy directly instead\n",
      "  np = pd.np\n",
      "d:\\program files\\python37\\lib\\site-packages\\nlpia\\loaders.py:78: FutureWarning: The pandas.np module is deprecated and will be removed from pandas in a future version. Import numpy directly instead\n",
      "  np = pd.np\n",
      "INFO:nlpia.loaders:No BIGDATA index found in d:\\program files\\python37\\lib\\site-packages\\nlpia\\data\\bigdata_info.csv so copy d:\\program files\\python37\\lib\\site-packages\\nlpia\\data\\bigdata_info.latest.csv to d:\\program files\\python37\\lib\\site-packages\\nlpia\\data\\bigdata_info.csv if you want to \"freeze\" it.\n",
      "INFO:nlpia.futil:Reading CSV with `read_csv(*('d:\\\\program files\\\\python37\\\\lib\\\\site-packages\\\\nlpia\\\\data\\\\mavis-batey-greetings.csv',), **{'low_memory': False})`...\n",
      "INFO:nlpia.futil:Reading CSV with `read_csv(*('d:\\\\program files\\\\python37\\\\lib\\\\site-packages\\\\nlpia\\\\data\\\\sms-spam.csv',), **{'low_memory': False})`...\n",
      "INFO:nlpia.futil:Reading CSV with `read_csv(*('d:\\\\program files\\\\python37\\\\lib\\\\site-packages\\\\nlpia\\\\data\\\\sms-spam.csv',), **{'nrows': None, 'low_memory': False})`...\n"
     ]
    },
    {
     "data": {
      "text/html": [
       "<div>\n",
       "<style scoped>\n",
       "    .dataframe tbody tr th:only-of-type {\n",
       "        vertical-align: middle;\n",
       "    }\n",
       "\n",
       "    .dataframe tbody tr th {\n",
       "        vertical-align: top;\n",
       "    }\n",
       "\n",
       "    .dataframe thead th {\n",
       "        text-align: right;\n",
       "    }\n",
       "</style>\n",
       "<table border=\"1\" class=\"dataframe\">\n",
       "  <thead>\n",
       "    <tr style=\"text-align: right;\">\n",
       "      <th></th>\n",
       "      <th>spam</th>\n",
       "      <th>text</th>\n",
       "    </tr>\n",
       "  </thead>\n",
       "  <tbody>\n",
       "    <tr>\n",
       "      <th>0</th>\n",
       "      <td>0</td>\n",
       "      <td>Go until jurong point, crazy.. Available only ...</td>\n",
       "    </tr>\n",
       "    <tr>\n",
       "      <th>1</th>\n",
       "      <td>0</td>\n",
       "      <td>Ok lar... Joking wif u oni...</td>\n",
       "    </tr>\n",
       "    <tr>\n",
       "      <th>2</th>\n",
       "      <td>1</td>\n",
       "      <td>Free entry in 2 a wkly comp to win FA Cup fina...</td>\n",
       "    </tr>\n",
       "    <tr>\n",
       "      <th>3</th>\n",
       "      <td>0</td>\n",
       "      <td>U dun say so early hor... U c already then say...</td>\n",
       "    </tr>\n",
       "    <tr>\n",
       "      <th>4</th>\n",
       "      <td>0</td>\n",
       "      <td>Nah I don't think he goes to usf, he lives aro...</td>\n",
       "    </tr>\n",
       "    <tr>\n",
       "      <th>...</th>\n",
       "      <td>...</td>\n",
       "      <td>...</td>\n",
       "    </tr>\n",
       "    <tr>\n",
       "      <th>4832</th>\n",
       "      <td>1</td>\n",
       "      <td>This is the 2nd time we have tried 2 contact u...</td>\n",
       "    </tr>\n",
       "    <tr>\n",
       "      <th>4833</th>\n",
       "      <td>0</td>\n",
       "      <td>Will ü b going to esplanade fr home?</td>\n",
       "    </tr>\n",
       "    <tr>\n",
       "      <th>4834</th>\n",
       "      <td>0</td>\n",
       "      <td>Pity, * was in mood for that. So...any other s...</td>\n",
       "    </tr>\n",
       "    <tr>\n",
       "      <th>4835</th>\n",
       "      <td>0</td>\n",
       "      <td>The guy did some bitching but I acted like i'd...</td>\n",
       "    </tr>\n",
       "    <tr>\n",
       "      <th>4836</th>\n",
       "      <td>0</td>\n",
       "      <td>Rofl. Its true to its name</td>\n",
       "    </tr>\n",
       "  </tbody>\n",
       "</table>\n",
       "<p>4837 rows × 2 columns</p>\n",
       "</div>"
      ],
      "text/plain": [
       "      spam                                               text\n",
       "0        0  Go until jurong point, crazy.. Available only ...\n",
       "1        0                      Ok lar... Joking wif u oni...\n",
       "2        1  Free entry in 2 a wkly comp to win FA Cup fina...\n",
       "3        0  U dun say so early hor... U c already then say...\n",
       "4        0  Nah I don't think he goes to usf, he lives aro...\n",
       "...    ...                                                ...\n",
       "4832     1  This is the 2nd time we have tried 2 contact u...\n",
       "4833     0               Will ü b going to esplanade fr home?\n",
       "4834     0  Pity, * was in mood for that. So...any other s...\n",
       "4835     0  The guy did some bitching but I acted like i'd...\n",
       "4836     0                         Rofl. Its true to its name\n",
       "\n",
       "[4837 rows x 2 columns]"
      ]
     },
     "execution_count": 2,
     "metadata": {},
     "output_type": "execute_result"
    }
   ],
   "source": [
    "import pandas as pd\n",
    "from nlpia.data.loaders import get_data\n",
    "\n",
    "#Esta línea ayuda a mostrar la columna ancha de texto SMS dentro de una impresión de Pandas DataFrame.\n",
    "pd.options.display.width = 120\n",
    "\n",
    "sms = get_data('sms-spam')\n",
    "sms"
   ]
  },
  {
   "cell_type": "markdown",
   "metadata": {},
   "source": [
    "Aquí le añadiremos un simbolo '!' para identificar si un sms es o no spam.\n",
    "\n",
    "Ademas tomaremos la columna de clasificación [0, 1] y la convertiremos en numeros enteros"
   ]
  },
  {
   "cell_type": "code",
   "execution_count": 5,
   "metadata": {},
   "outputs": [
    {
     "data": {
      "text/html": [
       "<div>\n",
       "<style scoped>\n",
       "    .dataframe tbody tr th:only-of-type {\n",
       "        vertical-align: middle;\n",
       "    }\n",
       "\n",
       "    .dataframe tbody tr th {\n",
       "        vertical-align: top;\n",
       "    }\n",
       "\n",
       "    .dataframe thead th {\n",
       "        text-align: right;\n",
       "    }\n",
       "</style>\n",
       "<table border=\"1\" class=\"dataframe\">\n",
       "  <thead>\n",
       "    <tr style=\"text-align: right;\">\n",
       "      <th></th>\n",
       "      <th>spam</th>\n",
       "      <th>text</th>\n",
       "    </tr>\n",
       "  </thead>\n",
       "  <tbody>\n",
       "    <tr>\n",
       "      <th>sms0</th>\n",
       "      <td>0</td>\n",
       "      <td>Go until jurong point, crazy.. Available only ...</td>\n",
       "    </tr>\n",
       "    <tr>\n",
       "      <th>sms1</th>\n",
       "      <td>0</td>\n",
       "      <td>Ok lar... Joking wif u oni...</td>\n",
       "    </tr>\n",
       "    <tr>\n",
       "      <th>sms2!</th>\n",
       "      <td>1</td>\n",
       "      <td>Free entry in 2 a wkly comp to win FA Cup fina...</td>\n",
       "    </tr>\n",
       "    <tr>\n",
       "      <th>sms3</th>\n",
       "      <td>0</td>\n",
       "      <td>U dun say so early hor... U c already then say...</td>\n",
       "    </tr>\n",
       "    <tr>\n",
       "      <th>sms4</th>\n",
       "      <td>0</td>\n",
       "      <td>Nah I don't think he goes to usf, he lives aro...</td>\n",
       "    </tr>\n",
       "    <tr>\n",
       "      <th>...</th>\n",
       "      <td>...</td>\n",
       "      <td>...</td>\n",
       "    </tr>\n",
       "    <tr>\n",
       "      <th>sms4832!</th>\n",
       "      <td>1</td>\n",
       "      <td>This is the 2nd time we have tried 2 contact u...</td>\n",
       "    </tr>\n",
       "    <tr>\n",
       "      <th>sms4833</th>\n",
       "      <td>0</td>\n",
       "      <td>Will ü b going to esplanade fr home?</td>\n",
       "    </tr>\n",
       "    <tr>\n",
       "      <th>sms4834</th>\n",
       "      <td>0</td>\n",
       "      <td>Pity, * was in mood for that. So...any other s...</td>\n",
       "    </tr>\n",
       "    <tr>\n",
       "      <th>sms4835</th>\n",
       "      <td>0</td>\n",
       "      <td>The guy did some bitching but I acted like i'd...</td>\n",
       "    </tr>\n",
       "    <tr>\n",
       "      <th>sms4836</th>\n",
       "      <td>0</td>\n",
       "      <td>Rofl. Its true to its name</td>\n",
       "    </tr>\n",
       "  </tbody>\n",
       "</table>\n",
       "<p>4837 rows × 2 columns</p>\n",
       "</div>"
      ],
      "text/plain": [
       "          spam                                               text\n",
       "sms0         0  Go until jurong point, crazy.. Available only ...\n",
       "sms1         0                      Ok lar... Joking wif u oni...\n",
       "sms2!        1  Free entry in 2 a wkly comp to win FA Cup fina...\n",
       "sms3         0  U dun say so early hor... U c already then say...\n",
       "sms4         0  Nah I don't think he goes to usf, he lives aro...\n",
       "...        ...                                                ...\n",
       "sms4832!     1  This is the 2nd time we have tried 2 contact u...\n",
       "sms4833      0               Will ü b going to esplanade fr home?\n",
       "sms4834      0  Pity, * was in mood for that. So...any other s...\n",
       "sms4835      0  The guy did some bitching but I acted like i'd...\n",
       "sms4836      0                         Rofl. Its true to its name\n",
       "\n",
       "[4837 rows x 2 columns]"
      ]
     },
     "execution_count": 5,
     "metadata": {},
     "output_type": "execute_result"
    }
   ],
   "source": [
    "index = ['sms{}{}'.format(i, '!'*j) for (i,j) in zip(range(len(sms)), sms.spam)]\n",
    "sms = pd.DataFrame(sms.values, columns=sms.columns, index=index)\n",
    "sms['spam'] = sms.spam.astype(int)\n",
    "sms"
   ]
  },
  {
   "cell_type": "markdown",
   "metadata": {},
   "source": [
    "Para vectorizar, utilizaremos la función de sklearn que hace la vectorizacion TF-IDF.\n",
    "Se puede añadir como parámetro a la función un tokenizador."
   ]
  },
  {
   "cell_type": "code",
   "execution_count": 6,
   "metadata": {},
   "outputs": [
    {
     "data": {
      "text/plain": [
       "array([[0., 0., 0., ..., 0., 0., 0.],\n",
       "       [0., 0., 0., ..., 0., 0., 0.],\n",
       "       [0., 0., 0., ..., 0., 0., 0.],\n",
       "       ...,\n",
       "       [0., 0., 0., ..., 0., 0., 0.],\n",
       "       [0., 0., 0., ..., 0., 0., 0.],\n",
       "       [0., 0., 0., ..., 0., 0., 0.]])"
      ]
     },
     "execution_count": 6,
     "metadata": {},
     "output_type": "execute_result"
    }
   ],
   "source": [
    "from sklearn.feature_extraction.text import TfidfVectorizer\n",
    "from nltk.tokenize.casual import casual_tokenize\n",
    "\n",
    "tfidf_model = TfidfVectorizer(tokenizer=casual_tokenize)\n",
    "tfidf_docs = tfidf_model.fit_transform(raw_documents=sms.text).toarray()\n",
    "tfidf_docs"
   ]
  },
  {
   "cell_type": "markdown",
   "metadata": {},
   "source": [
    "El tamaño del arreglo es"
   ]
  },
  {
   "cell_type": "code",
   "execution_count": 7,
   "metadata": {},
   "outputs": [
    {
     "data": {
      "text/plain": [
       "(4837, 9232)"
      ]
     },
     "execution_count": 7,
     "metadata": {},
     "output_type": "execute_result"
    }
   ],
   "source": [
    "tfidf_docs.shape"
   ]
  },
  {
   "cell_type": "markdown",
   "metadata": {},
   "source": [
    "4837 Es el numero de documentos, mientras que 9232 es el número de tokens del corpus.\n",
    "Cada columna va a representar a un token del corpus, y su valor de la componente, representara el valor de TF-IDF\n",
    "\n",
    "Iniciaremos un vector para mostrar con True or False, para ver si un documento es spam o no."
   ]
  },
  {
   "cell_type": "code",
   "execution_count": 8,
   "metadata": {},
   "outputs": [
    {
     "data": {
      "text/plain": [
       "array([False, False,  True, ..., False, False, False])"
      ]
     },
     "execution_count": 8,
     "metadata": {},
     "output_type": "execute_result"
    }
   ],
   "source": [
    "mask = sms.spam.astype(bool).values\n",
    "mask"
   ]
  },
  {
   "cell_type": "markdown",
   "metadata": {},
   "source": [
    "Luego, calculamos el centroide en las dimensines de los tokens, es decir, por columnas."
   ]
  },
  {
   "cell_type": "code",
   "execution_count": 10,
   "metadata": {},
   "outputs": [],
   "source": [
    "spam_centroid = tfidf_docs[mask].mean(axis=0)\n",
    "ham_centroid = tfidf_docs[~mask].mean(axis=0)"
   ]
  },
  {
   "cell_type": "code",
   "execution_count": 17,
   "metadata": {},
   "outputs": [
    {
     "data": {
      "text/plain": [
       "array([0.06, 0.  , 0.  , ..., 0.  , 0.  , 0.  ])"
      ]
     },
     "execution_count": 17,
     "metadata": {},
     "output_type": "execute_result"
    }
   ],
   "source": [
    "spam_centroid.round(2)#redondeado a 2 decimales"
   ]
  },
  {
   "cell_type": "code",
   "execution_count": 19,
   "metadata": {},
   "outputs": [
    {
     "data": {
      "text/plain": [
       "array([0.02, 0.01, 0.  , ..., 0.  , 0.  , 0.  ])"
      ]
     },
     "execution_count": 19,
     "metadata": {},
     "output_type": "execute_result"
    }
   ],
   "source": [
    "ham_centroid.round(2)"
   ]
  },
  {
   "cell_type": "code",
   "execution_count": 20,
   "metadata": {},
   "outputs": [
    {
     "data": {
      "text/plain": [
       "(9232,)"
      ]
     },
     "execution_count": 20,
     "metadata": {},
     "output_type": "execute_result"
    }
   ],
   "source": [
    "spam_centroid.shape"
   ]
  },
  {
   "cell_type": "code",
   "execution_count": 23,
   "metadata": {},
   "outputs": [],
   "source": [
    "#vector recta, que une los dos centroides\n",
    "recta = spam_centroid-ham_centroid\n",
    "#Calculamos el producto punto entre cada documento y la recta\n",
    "spaminess_score = tfidf_docs.dot(recta)"
   ]
  },
  {
   "cell_type": "code",
   "execution_count": 22,
   "metadata": {},
   "outputs": [
    {
     "name": "stdout",
     "output_type": "stream",
     "text": [
      "-0.039357271838168034\n",
      "0.06904539440075813\n"
     ]
    }
   ],
   "source": [
    "import numpy as np\n",
    "\n",
    "print(np.min(spaminess_score))\n",
    "print(np.max(spaminess_score))"
   ]
  },
  {
   "cell_type": "markdown",
   "metadata": {},
   "source": [
    "Reescalaremos, en base al minimo y al máximo, el \"spaminess_score\" entre 0 y 1, de tal manera de poder interpretarlo como probabilidad de que pertenezca a la clase SPAM"
   ]
  },
  {
   "cell_type": "code",
   "execution_count": 25,
   "metadata": {},
   "outputs": [
    {
     "data": {
      "text/plain": [
       "sms0        0.227478\n",
       "sms1        0.177888\n",
       "sms2!       0.718785\n",
       "sms3        0.184565\n",
       "sms4        0.286944\n",
       "              ...   \n",
       "sms4832!    0.850649\n",
       "sms4833     0.292753\n",
       "sms4834     0.269454\n",
       "sms4835     0.331306\n",
       "sms4836     0.399573\n",
       "Name: lda_score, Length: 4837, dtype: float64"
      ]
     },
     "execution_count": 25,
     "metadata": {},
     "output_type": "execute_result"
    }
   ],
   "source": [
    "from sklearn.preprocessing import MinMaxScaler\n",
    "\n",
    "sms['lda_score'] = MinMaxScaler().fit_transform(spaminess_score.reshape(-1,1))\n",
    "sms.lda_score"
   ]
  },
  {
   "cell_type": "markdown",
   "metadata": {},
   "source": [
    "Ahora bien, como decido quien esta mas lejos y quien esta mas cerca?\n",
    "El umbral será una linea recta, por eso esta clasificacion es lineal.\n",
    "En éste caso, veremos si, el score es mayor a 0.5, entonces lo clasificaremos como spam."
   ]
  },
  {
   "cell_type": "code",
   "execution_count": 27,
   "metadata": {},
   "outputs": [
    {
     "data": {
      "text/plain": [
       "sms0        0\n",
       "sms1        0\n",
       "sms2!       1\n",
       "sms3        0\n",
       "sms4        0\n",
       "           ..\n",
       "sms4832!    1\n",
       "sms4833     0\n",
       "sms4834     0\n",
       "sms4835     0\n",
       "sms4836     0\n",
       "Name: lda_predict, Length: 4837, dtype: int32"
      ]
     },
     "execution_count": 27,
     "metadata": {},
     "output_type": "execute_result"
    }
   ],
   "source": [
    "sms['lda_predict'] = (sms.lda_score > .5).astype(int)\n",
    "sms.lda_predict"
   ]
  },
  {
   "cell_type": "markdown",
   "metadata": {},
   "source": [
    "En resumen, el entrenamiento de éste modelo, es calcular el centroide.\n",
    "\n",
    "Ahora veremos si cumplio con las etiquetas o no"
   ]
  },
  {
   "cell_type": "code",
   "execution_count": 28,
   "metadata": {},
   "outputs": [
    {
     "data": {
      "text/html": [
       "<div>\n",
       "<style scoped>\n",
       "    .dataframe tbody tr th:only-of-type {\n",
       "        vertical-align: middle;\n",
       "    }\n",
       "\n",
       "    .dataframe tbody tr th {\n",
       "        vertical-align: top;\n",
       "    }\n",
       "\n",
       "    .dataframe thead th {\n",
       "        text-align: right;\n",
       "    }\n",
       "</style>\n",
       "<table border=\"1\" class=\"dataframe\">\n",
       "  <thead>\n",
       "    <tr style=\"text-align: right;\">\n",
       "      <th></th>\n",
       "      <th>spam</th>\n",
       "      <th>lda_predict</th>\n",
       "      <th>lda_score</th>\n",
       "    </tr>\n",
       "  </thead>\n",
       "  <tbody>\n",
       "    <tr>\n",
       "      <th>sms0</th>\n",
       "      <td>0</td>\n",
       "      <td>0</td>\n",
       "      <td>0.23</td>\n",
       "    </tr>\n",
       "    <tr>\n",
       "      <th>sms1</th>\n",
       "      <td>0</td>\n",
       "      <td>0</td>\n",
       "      <td>0.18</td>\n",
       "    </tr>\n",
       "    <tr>\n",
       "      <th>sms2!</th>\n",
       "      <td>1</td>\n",
       "      <td>1</td>\n",
       "      <td>0.72</td>\n",
       "    </tr>\n",
       "    <tr>\n",
       "      <th>sms3</th>\n",
       "      <td>0</td>\n",
       "      <td>0</td>\n",
       "      <td>0.18</td>\n",
       "    </tr>\n",
       "    <tr>\n",
       "      <th>sms4</th>\n",
       "      <td>0</td>\n",
       "      <td>0</td>\n",
       "      <td>0.29</td>\n",
       "    </tr>\n",
       "    <tr>\n",
       "      <th>sms5!</th>\n",
       "      <td>1</td>\n",
       "      <td>1</td>\n",
       "      <td>0.55</td>\n",
       "    </tr>\n",
       "    <tr>\n",
       "      <th>sms6</th>\n",
       "      <td>0</td>\n",
       "      <td>0</td>\n",
       "      <td>0.32</td>\n",
       "    </tr>\n",
       "    <tr>\n",
       "      <th>sms7</th>\n",
       "      <td>0</td>\n",
       "      <td>0</td>\n",
       "      <td>0.50</td>\n",
       "    </tr>\n",
       "    <tr>\n",
       "      <th>sms8!</th>\n",
       "      <td>1</td>\n",
       "      <td>1</td>\n",
       "      <td>0.89</td>\n",
       "    </tr>\n",
       "    <tr>\n",
       "      <th>sms9!</th>\n",
       "      <td>1</td>\n",
       "      <td>1</td>\n",
       "      <td>0.77</td>\n",
       "    </tr>\n",
       "    <tr>\n",
       "      <th>sms10</th>\n",
       "      <td>0</td>\n",
       "      <td>0</td>\n",
       "      <td>0.24</td>\n",
       "    </tr>\n",
       "    <tr>\n",
       "      <th>sms11!</th>\n",
       "      <td>1</td>\n",
       "      <td>1</td>\n",
       "      <td>0.79</td>\n",
       "    </tr>\n",
       "    <tr>\n",
       "      <th>sms12!</th>\n",
       "      <td>1</td>\n",
       "      <td>1</td>\n",
       "      <td>0.92</td>\n",
       "    </tr>\n",
       "    <tr>\n",
       "      <th>sms13</th>\n",
       "      <td>0</td>\n",
       "      <td>0</td>\n",
       "      <td>0.38</td>\n",
       "    </tr>\n",
       "    <tr>\n",
       "      <th>sms14</th>\n",
       "      <td>0</td>\n",
       "      <td>1</td>\n",
       "      <td>0.55</td>\n",
       "    </tr>\n",
       "  </tbody>\n",
       "</table>\n",
       "</div>"
      ],
      "text/plain": [
       "        spam  lda_predict  lda_score\n",
       "sms0       0            0       0.23\n",
       "sms1       0            0       0.18\n",
       "sms2!      1            1       0.72\n",
       "sms3       0            0       0.18\n",
       "sms4       0            0       0.29\n",
       "sms5!      1            1       0.55\n",
       "sms6       0            0       0.32\n",
       "sms7       0            0       0.50\n",
       "sms8!      1            1       0.89\n",
       "sms9!      1            1       0.77\n",
       "sms10      0            0       0.24\n",
       "sms11!     1            1       0.79\n",
       "sms12!     1            1       0.92\n",
       "sms13      0            0       0.38\n",
       "sms14      0            1       0.55"
      ]
     },
     "execution_count": 28,
     "metadata": {},
     "output_type": "execute_result"
    }
   ],
   "source": [
    "sms['spam lda_predict lda_score'.split()].round(2).head(15)"
   ]
  },
  {
   "attachments": {
    "imagen.png": {
     "image/png": "[encoded data removed]"
    }
   },
   "cell_type": "markdown",
   "metadata": {},
   "source": [
    "Ahora calcularemos que tan bien se desempeño nuestro modelo mediante la matriz de confusion.\n",
    "\n",
    "La matriz de confusion es\n",
    "![imagen.png](attachment:imagen.png)\n",
    "\n",
    "En donde:\n",
    "- P = positivo\n",
    "- N = Negativo\n",
    "y los elementos:\n",
    "- TP = True Positive. (Verdadero y acertó)\n",
    "- FP = False Positive. (Falso y no acertó)\n",
    "- TN = True Negative. (Falso y acertó)\n",
    "- FN = False Negative. (Verdadero y no acertó)\n",
    "\n",
    "En resumen, la diagonal es cuando acierta y la anti-diagonal cuando no acierta."
   ]
  },
  {
   "cell_type": "code",
   "execution_count": 30,
   "metadata": {},
   "outputs": [
    {
     "data": {
      "text/plain": [
       "array([[4135,   64],\n",
       "       [  45,  593]], dtype=int64)"
      ]
     },
     "execution_count": 30,
     "metadata": {},
     "output_type": "execute_result"
    }
   ],
   "source": [
    "from sklearn.metrics import confusion_matrix\n",
    "\n",
    "y_real = sms.spam\n",
    "y_pred = sms.lda_predict\n",
    "matrix = confusion_matrix(y_real, y_pred)\n",
    "matrix"
   ]
  },
  {
   "cell_type": "markdown",
   "metadata": {},
   "source": [
    "+ 4135 no son spam y se clasificaron como no spam\n",
    "+ 593     son spam y se clasificaron como spam\n",
    "+ 64   no son spam y se clasificaron como spam\n",
    "+ 45      son spam y se clasificaron como no spam"
   ]
  },
  {
   "cell_type": "markdown",
   "metadata": {},
   "source": [
    "Directamente de la matriz de confusion, podemos calcular el 'accuracy'"
   ]
  },
  {
   "cell_type": "code",
   "execution_count": 32,
   "metadata": {},
   "outputs": [
    {
     "data": {
      "text/plain": [
       "0.9774653710977879"
      ]
     },
     "execution_count": 32,
     "metadata": {},
     "output_type": "execute_result"
    }
   ],
   "source": [
    "acc = (4135+593)/(4135+593+64+45)\n",
    "acc"
   ]
  }
 ],
 "metadata": {
  "kernelspec": {
   "display_name": "Python 3",
   "language": "python",
   "name": "python3"
  },
  "language_info": {
   "codemirror_mode": {
    "name": "ipython",
    "version": 3
   },
   "file_extension": ".py",
   "mimetype": "text/x-python",
   "name": "python",
   "nbconvert_exporter": "python",
   "pygments_lexer": "ipython3",
   "version": "3.7.7"
  }
 },
 "nbformat": 4,
 "nbformat_minor": 4
}
