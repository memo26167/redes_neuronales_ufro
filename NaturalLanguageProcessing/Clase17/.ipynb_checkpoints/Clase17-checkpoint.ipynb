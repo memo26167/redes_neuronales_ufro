{
 "cells": [
  {
   "cell_type": "markdown",
   "metadata": {},
   "source": [
    "# Algoritmo de reduccion de dimension\n",
    "El algoritmo LDA puede ser visto como un algotimo de la reduccion de la dimension, tomamos un vector de $R^n$ y lo transformamos a una probabilidad.\n",
    "\n",
    "Ahora se verán 2 algoritmos para la reduccion de la dimension"
   ]
  },
  {
   "cell_type": "code",
   "execution_count": 2,
   "metadata": {},
   "outputs": [
    {
     "name": "stdout",
     "output_type": "stream",
     "text": [
      "['La UFRO está en Temuco, y yo estudio en la ufro.', 'La Ufro es una universidad estatal.', 'Facultad de Ingeniería y Ciencia, Ufro.', 'Departamento de Ingeniería Matemática, Ufro.', 'Departamento de Ciencias Físicas, Ufro.']\n"
     ]
    }
   ],
   "source": [
    "from nltk.tokenize import TreebankWordTokenizer\n",
    "from collections import Counter\n",
    "\n",
    "tokenizer = TreebankWordTokenizer()\n",
    "docs = [\"La UFRO está en Temuco, y yo estudio en la ufro.\"]\n",
    "docs.append(\"La Ufro es una universidad estatal.\")\n",
    "docs.append(\"Facultad de Ingeniería y Ciencia, Ufro.\")\n",
    "docs.append(\"Departamento de Ingeniería Matemática, Ufro.\")\n",
    "docs.append(\"Departamento de Ciencias Físicas, Ufro.\")\n",
    "print(docs)"
   ]
  },
  {
   "cell_type": "code",
   "execution_count": 3,
   "metadata": {},
   "outputs": [
    {
     "name": "stdout",
     "output_type": "stream",
     "text": [
      "[[0.         0.         0.         0.         0.58946308 0.\n",
      "  0.         0.29473154 0.29473154 0.         0.         0.\n",
      "  0.4755751  0.         0.29473154 0.28088232 0.         0.\n",
      "  0.29473154]\n",
      " [0.         0.         0.         0.         0.         0.45277275\n",
      "  0.45277275 0.         0.         0.         0.         0.\n",
      "  0.36529421 0.         0.         0.21574864 0.45277275 0.45277275\n",
      "  0.        ]\n",
      " [0.5482859  0.         0.36719346 0.         0.         0.\n",
      "  0.         0.         0.         0.5482859  0.         0.44235361\n",
      "  0.         0.         0.         0.26126117 0.         0.\n",
      "  0.        ]\n",
      " [0.         0.         0.38812269 0.46756681 0.         0.\n",
      "  0.         0.         0.         0.         0.         0.46756681\n",
      "  0.         0.57953701 0.         0.27615249 0.         0.\n",
      "  0.        ]\n",
      " [0.         0.5482859  0.36719346 0.44235361 0.         0.\n",
      "  0.         0.         0.         0.         0.5482859  0.\n",
      "  0.         0.         0.         0.26126117 0.         0.\n",
      "  0.        ]]\n",
      "(5, 19)\n"
     ]
    }
   ],
   "source": [
    "from sklearn.feature_extraction.text import TfidfVectorizer\n",
    "\n",
    "corpus = docs\n",
    "vectorizer = TfidfVectorizer(min_df=1, encoding='utf-8')\n",
    "model = vectorizer.fit_transform(corpus)\n",
    "X = model.todense()\n",
    "print(X)\n",
    "print(X.shape)\n",
    "#A la matriz TF-IDF que formemos con los documentos, le llamaremos X"
   ]
  },
  {
   "cell_type": "markdown",
   "metadata": {},
   "source": [
    "Asi, de la matriz X, cada fila representa un documento y cada columna un token."
   ]
  },
  {
   "cell_type": "markdown",
   "metadata": {},
   "source": [
    "## Primer algoritmo: Descomposicion en valores singulares (SVD)\n",
    "\n",
    "Para toda matriz $n\\times n$, existen dos matrices ortogonales $U$ y $V$ y una matriz diagonal $D$, tal que $A=VDU^T$, \n",
    "\n",
    "Donde $D$ está compuesto por los valores singulares $\\sigma_1, ..., \\sigma_r$ y son las raices positivas de los autovalores no ceros, de las matrices $A^T A$ y $AA^T$, y $\\sigma_{r+1}=...=\\sigma_n=0$.\n",
    "\n",
    "Las columnas de $U$ son autovectores de $A^T A$, y las columnas de $V$ son autovectores de $A A^T$"
   ]
  },
  {
   "cell_type": "markdown",
   "metadata": {},
   "source": [
    "### Generalizacion para matriz no cuadrada\n",
    "Para cada matriz real $m\\times n$ $A$, existen dos amtrices ortogonales $U$ ($n\\times n$) y $V$ ($m\\times m$) y una matriz diagonal $m\\times n$ $D$ tal que $A=VDU^T$.\n",
    "\n",
    "Donde, $D$ está compuesto por los valores singulares $\\sigma_1, ..., \\sigma_r$, y son las raices positivas de los autovalores no ceros de $A^TA$ y $AA^T$, y $\\sigma_{r+1}, ..., \\sigma_p = 0$, donde $p = \\min(m,n)$.\n",
    "\n",
    "Las columnas de $U$ son autovectores de $A^T A$, y las columnas de $V$ son autovectores de $A A^T$"
   ]
  },
  {
   "cell_type": "code",
   "execution_count": 4,
   "metadata": {},
   "outputs": [
    {
     "name": "stdout",
     "output_type": "stream",
     "text": [
      "[[-2.13913668e-01  7.73660267e-02  4.34297183e-01 -6.68262083e-03\n",
      "  -3.55558591e-01 -1.06972301e-01 -1.06972301e-01 -1.87115861e-01\n",
      "  -1.87115861e-01 -2.96332552e-01  2.37060451e-01 -2.72256286e-01\n",
      "  -3.88232376e-01 -4.11220965e-02 -1.87115861e-01 -2.77134669e-01\n",
      "  -1.06972301e-01 -1.06972301e-01 -1.87115861e-01]\n",
      " [-2.13913668e-01  7.73660267e-02 -4.34297183e-01 -6.68262083e-03\n",
      "  -3.55558591e-01 -2.69033707e-01 -2.69033707e-01  3.80563361e-02\n",
      "   3.80563361e-02  2.72828084e-02 -4.12923644e-01  2.29637860e-01\n",
      "  -1.55647477e-01  2.57347401e-01  3.80563361e-02 -1.53060416e-01\n",
      "  -2.69033707e-01 -2.69033707e-01  3.80563361e-02]\n",
      " [-4.66404380e-01  1.75198223e-01 -1.16004375e-15 -1.74852689e-02\n",
      "  -5.61312855e-02  1.65060815e-01  1.65060815e-01  1.40407693e-01\n",
      "   1.40407693e-01 -4.69064690e-01 -3.03478380e-01 -3.14258000e-01\n",
      "   3.59730111e-01  7.95499999e-02  1.40407693e-01 -1.17752513e-01\n",
      "   1.65060815e-01  1.65060815e-01  1.40407693e-01]\n",
      " [-3.89287636e-01  1.48640802e-01 -3.50388233e-01 -1.56728001e-02\n",
      "   2.19241737e-01  3.28920343e-02  3.28920343e-02 -9.93972014e-02\n",
      "  -9.93972014e-02  3.60159276e-01 -4.86957646e-02 -2.01441625e-01\n",
      "  -1.33848986e-01 -6.09840978e-01 -9.93972014e-02 -2.21231829e-01\n",
      "   3.28920343e-02  3.28920343e-02 -9.93972014e-02]\n",
      " [-9.94096863e-02 -3.60099863e-01  1.43955395e-16  4.80221887e-01\n",
      "   1.07764406e-02  2.24170032e-01  2.24170032e-01 -2.13746358e-01\n",
      "  -2.13746358e-01  3.09073831e-02 -3.33110097e-01  2.01467442e-01\n",
      "  -1.64039461e-01  2.18806319e-01 -2.13746358e-01 -1.36623177e-01\n",
      "   2.24170032e-01  2.24170032e-01 -2.13746358e-01]\n",
      " [-6.64827424e-02 -2.85374928e-01  3.25906779e-16 -3.62900604e-01\n",
      "   3.89801019e-03  7.96318395e-01 -2.03681605e-01  2.91548374e-02\n",
      "   2.91548374e-02  6.33196624e-03 -2.84982914e-02  2.39566735e-02\n",
      "  -1.17285158e-01  2.33617131e-02  2.91548374e-02 -6.87008949e-02\n",
      "  -2.03681605e-01 -2.03681605e-01  2.91548374e-02]\n",
      " [-6.64827424e-02 -2.85374928e-01  3.25906779e-16 -3.62900604e-01\n",
      "   3.89801019e-03 -2.03681605e-01  7.96318395e-01  2.91548374e-02\n",
      "   2.91548374e-02  6.33196624e-03 -2.84982914e-02  2.39566735e-02\n",
      "  -1.17285158e-01  2.33617131e-02  2.91548374e-02 -6.87008949e-02\n",
      "  -2.03681605e-01 -2.03681605e-01  2.91548374e-02]\n",
      " [-4.97048432e-02 -1.80049932e-01  4.21239439e-17  2.40110944e-01\n",
      "   5.38822028e-03 -1.94482257e-02 -1.94482257e-02  9.15182854e-01\n",
      "  -8.48171463e-02 -2.78975905e-03  1.09558466e-01 -5.28203742e-02\n",
      "  -1.52550585e-01 -6.26797333e-02 -8.48171463e-02 -6.90902011e-02\n",
      "  -1.94482257e-02 -1.94482257e-02 -8.48171463e-02]\n",
      " [-4.97048432e-02 -1.80049932e-01  4.21239439e-17  2.40110944e-01\n",
      "   5.38822028e-03 -1.94482257e-02 -1.94482257e-02 -8.48171463e-02\n",
      "   9.15182854e-01 -2.78975905e-03  1.09558466e-01 -5.28203742e-02\n",
      "  -1.52550585e-01 -6.26797333e-02 -8.48171463e-02 -6.90902011e-02\n",
      "  -1.94482257e-02 -1.94482257e-02 -8.48171463e-02]\n",
      " [-2.13913668e-01  7.73660267e-02  4.34297183e-01 -6.68262083e-03\n",
      "  -3.55558591e-01  4.80956785e-02  4.80956785e-02  8.16132452e-02\n",
      "   8.16132452e-02  7.25175129e-01 -8.84569944e-02 -9.12273455e-02\n",
      "   1.70493395e-01  1.61750928e-01  8.16132452e-02  4.66557419e-03\n",
      "   4.80956785e-02  4.80956785e-02  8.16132452e-02]\n",
      " [-2.13913668e-01  7.73660267e-02 -4.34297183e-01 -6.68262083e-03\n",
      "  -3.55558591e-01  1.59329093e-01  1.59329093e-01 -2.67169547e-02\n",
      "  -2.67169547e-02  2.20986908e-02  6.65537660e-01  1.86003435e-01\n",
      "   8.54355673e-02  2.08447772e-01 -2.67169547e-02  9.43150341e-04\n",
      "   1.59329093e-01  1.59329093e-01 -2.67169547e-02]\n",
      " [-3.89287636e-01  1.48640802e-01  3.50388233e-01 -1.56728001e-02\n",
      "   2.19241737e-01 -3.01079518e-02 -3.01079518e-02  4.54254428e-02\n",
      "   4.54254428e-02 -1.10172949e-01  8.02226433e-02  7.64263640e-01\n",
      "   4.90070165e-02 -1.82016194e-01  4.54254428e-02 -7.20588392e-02\n",
      "  -3.01079518e-02 -3.01079518e-02  4.54254428e-02]\n",
      " [-1.33840967e-01 -5.20764997e-01  3.26898893e-16  9.46540727e-02\n",
      "   1.18392545e-02 -1.95710448e-01 -1.95710448e-01 -1.13337940e-01\n",
      "  -1.13337940e-01  6.07070430e-04  1.53789918e-01 -6.59021973e-02\n",
      "   6.59221370e-01 -8.22911454e-02 -1.13337940e-01 -1.66910528e-01\n",
      "  -1.95710448e-01 -1.95710448e-01 -1.13337940e-01]\n",
      " [-2.68598323e-01  1.06870416e-01  8.11921956e-15 -1.27434110e-02\n",
      "   6.27303073e-01 -8.54137087e-02 -8.54137087e-02 -2.53095798e-02\n",
      "  -2.53095798e-02  1.38268341e-01  1.87890893e-01 -2.00961797e-01\n",
      "  -1.09750462e-01  6.12644692e-01 -2.53095798e-02 -9.39806480e-02\n",
      "  -8.54137087e-02 -8.54137087e-02 -2.53095798e-02]\n",
      " [-4.97048432e-02 -1.80049932e-01  4.21239439e-17  2.40110944e-01\n",
      "   5.38822028e-03 -1.94482257e-02 -1.94482257e-02 -8.48171463e-02\n",
      "  -8.48171463e-02 -2.78975905e-03  1.09558466e-01 -5.28203742e-02\n",
      "  -1.52550585e-01 -6.26797333e-02  9.15182854e-01 -6.90902011e-02\n",
      "  -1.94482257e-02 -1.94482257e-02 -8.48171463e-02]\n",
      " [-4.10899189e-01 -1.82917218e-01 -5.30367008e-16  4.34633073e-02\n",
      "  -3.29454176e-02 -5.74508185e-02 -5.74508185e-02 -5.28409869e-02\n",
      "  -5.28409869e-02 -5.41812283e-02 -2.11615083e-02 -8.95209580e-02\n",
      "  -1.31614510e-01 -5.67776917e-02 -5.28409869e-02  8.59310258e-01\n",
      "  -5.74508185e-02 -5.74508185e-02 -5.28409869e-02]\n",
      " [-6.64827424e-02 -2.85374928e-01  3.25906779e-16 -3.62900604e-01\n",
      "   3.89801019e-03 -2.03681605e-01 -2.03681605e-01  2.91548374e-02\n",
      "   2.91548374e-02  6.33196624e-03 -2.84982914e-02  2.39566735e-02\n",
      "  -1.17285158e-01  2.33617131e-02  2.91548374e-02 -6.87008949e-02\n",
      "   7.96318395e-01 -2.03681605e-01  2.91548374e-02]\n",
      " [-6.64827424e-02 -2.85374928e-01  3.37101937e-16 -3.62900604e-01\n",
      "   3.89801019e-03 -2.03681605e-01 -2.03681605e-01  2.91548374e-02\n",
      "   2.91548374e-02  6.33196624e-03 -2.84982914e-02  2.39566735e-02\n",
      "  -1.17285158e-01  2.33617131e-02  2.91548374e-02 -6.87008949e-02\n",
      "  -2.03681605e-01  7.96318395e-01  2.91548374e-02]\n",
      " [-4.97048432e-02 -1.80049932e-01  3.49227778e-17  2.40110944e-01\n",
      "   5.38822028e-03 -1.94482257e-02 -1.94482257e-02 -8.48171463e-02\n",
      "  -8.48171463e-02 -2.78975905e-03  1.09558466e-01 -5.28203742e-02\n",
      "  -1.52550585e-01 -6.26797333e-02 -8.48171463e-02 -6.90902011e-02\n",
      "  -1.94482257e-02 -1.94482257e-02  9.15182854e-01]]\n",
      "(19, 19)\n"
     ]
    }
   ],
   "source": [
    "import numpy as np\n",
    "\n",
    "#descomposicion en valores singulares = svd\n",
    "V, s, Ut = np.linalg.svd(X.T)\n",
    "\n",
    "print(V)\n",
    "print(V.shape)"
   ]
  },
  {
   "cell_type": "markdown",
   "metadata": {},
   "source": [
    "A la matriz $V$ se le conoce como matriz de terminos y temas, y contiene informacion sobre los vecinos cercanos en el espacio vectorial semantico.\n",
    "\n",
    "Esta matriz va a tener la correlacion cruzada entre los tokens basada en la coincidencia de palabras en un mismo documento."
   ]
  },
  {
   "cell_type": "code",
   "execution_count": 8,
   "metadata": {},
   "outputs": [
    {
     "name": "stdout",
     "output_type": "stream",
     "text": [
      "[[1.3254161  0.         0.         0.         0.        ]\n",
      " [0.         1.08832291 0.         0.         0.        ]\n",
      " [0.         0.         0.89269904 0.         0.        ]\n",
      " [0.         0.         0.         0.87474214 0.        ]\n",
      " [0.         0.         0.         0.         0.70479786]\n",
      " [0.         0.         0.         0.         0.        ]\n",
      " [0.         0.         0.         0.         0.        ]\n",
      " [0.         0.         0.         0.         0.        ]\n",
      " [0.         0.         0.         0.         0.        ]\n",
      " [0.         0.         0.         0.         0.        ]\n",
      " [0.         0.         0.         0.         0.        ]\n",
      " [0.         0.         0.         0.         0.        ]\n",
      " [0.         0.         0.         0.         0.        ]\n",
      " [0.         0.         0.         0.         0.        ]\n",
      " [0.         0.         0.         0.         0.        ]\n",
      " [0.         0.         0.         0.         0.        ]\n",
      " [0.         0.         0.         0.         0.        ]\n",
      " [0.         0.         0.         0.         0.        ]\n",
      " [0.         0.         0.         0.         0.        ]]\n",
      "(19, 5)\n"
     ]
    }
   ],
   "source": [
    "D = np.zeros((len(V),len(Ut)))\n",
    "np.fill_diagonal(D, s)\n",
    "\n",
    "print(D)\n",
    "print(D.shape)"
   ]
  },
  {
   "cell_type": "markdown",
   "metadata": {},
   "source": [
    "Finalmente la matriz $U^T$, cuyas dimensiones, son la cantidad de documentos"
   ]
  },
  {
   "cell_type": "code",
   "execution_count": 9,
   "metadata": {},
   "outputs": [
    {
     "name": "stdout",
     "output_type": "stream",
     "text": [
      "[[-2.23524090e-01 -1.94617049e-01 -5.17110909e-01 -6.14291299e-01\n",
      "  -5.17110909e-01]\n",
      " [-6.64850681e-01 -6.85951329e-01  1.53568092e-01  2.00693865e-01\n",
      "   1.53568092e-01]\n",
      " [-0.00000000e+00  4.92059614e-16  7.07106781e-01  7.57002312e-15\n",
      "  -7.07106781e-01]\n",
      " [ 7.12632114e-01 -7.01112089e-01 -1.06615364e-02 -1.92346622e-02\n",
      "  -1.06615364e-02]\n",
      " [ 1.28849669e-02  6.06774421e-03 -4.57055227e-01  7.62888065e-01\n",
      "  -4.57055227e-01]]\n",
      "(5, 5)\n"
     ]
    }
   ],
   "source": [
    "print(Ut)\n",
    "print(Ut.shape)"
   ]
  },
  {
   "cell_type": "markdown",
   "metadata": {},
   "source": [
    "Mostrando la diferencia entre las matrices"
   ]
  },
  {
   "cell_type": "code",
   "execution_count": 10,
   "metadata": {},
   "outputs": [
    {
     "name": "stdout",
     "output_type": "stream",
     "text": [
      "[[ 0.  0.  0.  0.  0. -0. -0.  0.  0.  0.  0.  0.  0.  0.  0.  0. -0. -0.\n",
      "   0.]\n",
      " [ 0.  0.  0.  0. -0.  0.  0. -0. -0.  0.  0.  0. -0.  0. -0.  0.  0.  0.\n",
      "  -0.]\n",
      " [ 0.  0.  0. -0.  0.  0.  0.  0.  0.  0.  0. -0.  0. -0.  0.  0.  0.  0.\n",
      "   0.]\n",
      " [-0.  0. -0. -0.  0.  0.  0.  0.  0. -0. -0. -0.  0.  0.  0.  0.  0.  0.\n",
      "   0.]\n",
      " [-0. -0. -0.  0.  0.  0.  0.  0.  0. -0. -0.  0.  0.  0.  0.  0.  0.  0.\n",
      "   0.]]\n"
     ]
    }
   ],
   "source": [
    "Xp = V*D*Ut\n",
    "dif = X - Xp.T\n",
    "print(dif.round(10))"
   ]
  },
  {
   "cell_type": "markdown",
   "metadata": {},
   "source": [
    "A la matriz V se le puede truncar o eliminar filas o columnas"
   ]
  },
  {
   "cell_type": "markdown",
   "metadata": {},
   "source": [
    "Si $A$ es una matrix $m\\times n$ de rango $r$ y sea $VDU^T=A$, la descomposicion de A. En donde se escribe, $u_i$ para las columnas de $U$, $v_i$ para las columnas de V, y $\\sigma_1 \\geq \\sigma_2 \\geq ... \\geq \\sigma_p$ para los valores singulares de $A$ ($p=min(m,n)$). Entonces la matriz de rango $k < r$ mas cercana a A (en la norma $|| \\text{ }||_2$) esta dada por:\n",
    "\n",
    "$$ A_k = \\sum_{i=1}^k \\sigma_i v_i u_i^T = V diag(\\sigma_1,...,\\sigma_k, 0,...,0)U^T$$\n",
    "y $|| A-A_k||_2 = \\sigma_{k+1}$\n",
    "\n",
    "Y esto valida el truncar columnas\n",
    "\n",
    "Este metodo se llama SVD truncado"
   ]
  },
  {
   "cell_type": "markdown",
   "metadata": {},
   "source": [
    "Truncar la matriz V y obtener informacion de la descomposicion en valores singulares, se le llama **análisis semántico latente**"
   ]
  },
  {
   "cell_type": "markdown",
   "metadata": {},
   "source": [
    "## Segundo Algoritmo: Análisis de compontentes principales (o **análisis semántico latente** o tambien PCA)\n",
    "Sirve para identificar patrones en los datos y comprender la estructura de varianza y covarianza en los datos. De esta forma, se puede utilizar para reducir la dimension de los datos.\n",
    "\n",
    "La idea basica detras de este algoritmo es que las componentes principales de una matriz X, son proyecciones no correlacionadas Y de los puntos x1 hasta xn, donde esas son nuestros vectores de documento, en algunas direcciones v (vector unitario), de tal manera que la varianza de estas componentes principales es maxima."
   ]
  },
  {
   "cell_type": "markdown",
   "metadata": {},
   "source": [
    "Definicion:\n",
    "\n",
    "Dada una matrix $X$ $n\\times d$ , de puntos de datos $X_1,...,X_n$, si $\\mu$ es el centroide de $X$, entonces una **primera componente principal** de $X$ es un punto centrado $Y_1=(X-\\mu)v_1$, siendo esta la proyeccion de $X_1,...,X_n$ en una direccion $v_1$ tal que var($Y_1$) esta maximizado, donde $v_1$ un vector unitario.\n",
    "\n",
    "Mas generalmente, $Y_1,...,Y_k$, son $k$ componentes principales de $X$ a lo largo de vectores unitarios $v_1,...,v_k$, donde $1\\leq k <d$, el $(k+1)th$ componente principal de $X$ es un punto centrado $Y_{k+1} = (X-\\mu)v_{k+1}$, la proyeccion de $X_1,...,X_n$ en alguna direccion $v_{k+1}$, tal que var($Y_{k+1}$) es maximizada, sujeto a cov($Y_h,Y_{k+1}$)$=0$, para todo $h$ con $1 \\leq h \\leq k$, y donde $v_{k+1}$ es un vector unitario. Los $v_h$ se llaman direcciones principales"
   ]
  },
  {
   "cell_type": "markdown",
   "metadata": {},
   "source": [
    "Teorema:\n",
    "\n",
    "Una matrix $X$ de dimension $n\\times d$ de puntos de datos $X_1, ..., X_n$, y sea $\\mu$ el centroide de $X_i$'s. Si $X-\\mu=VDU^T$ es una descomposicion SVD de $X-\\mu$ y si la diagonal principal $D$ consiste en valores singulares $\\sigma_1 \\geq \\sigma_2 \\geq ... \\geq \\sigma_d$, entonces los puntos centrados $Y_1, ... , Y_d$, donde:\n",
    "\n",
    "$$Y_k = (X- \\mu)v_k = \\text{columna k-esima de VD} $$\n",
    "y $u_k$ es la columna k-esima de $U$, son los $d$ principales componentes de $X$.\n",
    "\n",
    "Además,\n",
    "\n",
    "$$\\text{var}{(Y_k)}= \\frac {\\sigma_k^2} {n-1}$$\n",
    "y\n",
    "$\\text{cov}(Y_h,Y_k)=0$, donde $h\\neq k$ y $1\\leq k, h\\leq d$"
   ]
  },
  {
   "cell_type": "markdown",
   "metadata": {},
   "source": [
    "Ejemplo\n",
    "Se carga data de 3 dimensiones"
   ]
  },
  {
   "cell_type": "code",
   "execution_count": 1,
   "metadata": {
    "scrolled": true
   },
   "outputs": [
    {
     "name": "stderr",
     "output_type": "stream",
     "text": [
      "d:\\program files\\python37\\lib\\site-packages\\pugnlp\\constants.py:136: FutureWarning: The pandas.datetime class is deprecated and will be removed from pandas in a future version. Import from datetime module instead.\n",
      "  [datetime.datetime, pd.datetime, pd.Timestamp])\n",
      "d:\\program files\\python37\\lib\\site-packages\\pugnlp\\constants.py:158: FutureWarning: The pandas.datetime class is deprecated and will be removed from pandas in a future version. Import from datetime module instead.\n",
      "  MIN_TIMESTAMP = pd.Timestamp(pd.datetime(1677, 9, 22, 0, 12, 44), tz='utc')\n",
      "d:\\program files\\python37\\lib\\site-packages\\pugnlp\\tutil.py:100: FutureWarning: The pandas.np module is deprecated and will be removed from pandas in a future version. Import numpy directly instead\n",
      "  np = pd.np\n",
      "d:\\program files\\python37\\lib\\site-packages\\pugnlp\\util.py:80: FutureWarning: The pandas.np module is deprecated and will be removed from pandas in a future version. Import numpy directly instead\n",
      "  np = pd.np\n",
      "INFO:nlpia.constants:Starting logger in nlpia.constants...\n",
      "d:\\program files\\python37\\lib\\site-packages\\nlpia\\futil.py:30: FutureWarning: The pandas.np module is deprecated and will be removed from pandas in a future version. Import numpy directly instead\n",
      "  np = pd.np\n",
      "d:\\program files\\python37\\lib\\site-packages\\nlpia\\loaders.py:78: FutureWarning: The pandas.np module is deprecated and will be removed from pandas in a future version. Import numpy directly instead\n",
      "  np = pd.np\n",
      "INFO:nlpia.loaders:No BIGDATA index found in d:\\program files\\python37\\lib\\site-packages\\nlpia\\data\\bigdata_info.csv so copy d:\\program files\\python37\\lib\\site-packages\\nlpia\\data\\bigdata_info.latest.csv to d:\\program files\\python37\\lib\\site-packages\\nlpia\\data\\bigdata_info.csv if you want to \"freeze\" it.\n",
      "INFO:nlpia.futil:Reading CSV with `read_csv(*('d:\\\\program files\\\\python37\\\\lib\\\\site-packages\\\\nlpia\\\\data\\\\mavis-batey-greetings.csv',), **{'low_memory': False})`...\n",
      "INFO:nlpia.futil:Reading CSV with `read_csv(*('d:\\\\program files\\\\python37\\\\lib\\\\site-packages\\\\nlpia\\\\data\\\\sms-spam.csv',), **{'low_memory': False})`...\n",
      "INFO:nlpia.futil:Reading CSV with `read_csv(*('d:\\\\program files\\\\python37\\\\lib\\\\site-packages\\\\nlpia\\\\data\\\\pointcloud.csv.gz',), **{'nrows': None, 'low_memory': False})`...\n"
     ]
    },
    {
     "data": {
      "text/plain": [
       "(1000, 3)"
      ]
     },
     "execution_count": 1,
     "metadata": {},
     "output_type": "execute_result"
    }
   ],
   "source": [
    "import pandas as pd\n",
    "\n",
    "pd.set_option('display.max_columns', 6)\n",
    "\n",
    "from sklearn.decomposition import PCA\n",
    "import seaborn\n",
    "from matplotlib import pyplot as plt\n",
    "from nlpia.data.loaders import get_data\n",
    "\n",
    "df = get_data('pointcloud').sample(1000)\n",
    "df.shape"
   ]
  },
  {
   "cell_type": "markdown",
   "metadata": {},
   "source": [
    "Visualizaremos los datos con matplotlib"
   ]
  },
  {
   "cell_type": "code",
   "execution_count": 2,
   "metadata": {},
   "outputs": [
    {
     "data": {
      "image/png": "[encoded data removed]",
      "text/plain": [
       "<Figure size 432x288 with 1 Axes>"
      ]
     },
     "metadata": {
      "needs_background": "light"
     },
     "output_type": "display_data"
    }
   ],
   "source": [
    "from mpl_toolkits.mplot3d import axes3d\n",
    "import matplotlib.pyplot as plt\n",
    "\n",
    "# Creamos la figura\n",
    "fig = plt.figure()\n",
    "# Creamos el plano 3D\n",
    "ax1 = fig.add_subplot(111, projection='3d')\n",
    "\n",
    "# Definimos los datos de prueba\n",
    "x = df.iloc[:, 0]\n",
    "y = df.iloc[:, 1]\n",
    "z = df.iloc[:, 2]\n",
    "\n",
    "# Agregamos los puntos en el plano 3D\n",
    "ax1.scatter(x, y, z, marker='o')\n",
    "\n",
    "# Mostramos el gráfico\n",
    "plt.show()"
   ]
  },
  {
   "cell_type": "markdown",
   "metadata": {},
   "source": [
    "Aqui se muestran los 1000 datos y aplicaremos PCA para reducir la dimension a 2 y graficarlo en el plano"
   ]
  },
  {
   "cell_type": "code",
   "execution_count": 4,
   "metadata": {},
   "outputs": [
    {
     "data": {
      "image/png": "[encoded data removed]",
      "text/plain": [
       "<Figure size 432x288 with 1 Axes>"
      ]
     },
     "metadata": {
      "needs_background": "light"
     },
     "output_type": "display_data"
    }
   ],
   "source": [
    "pca = PCA(n_components=2)\n",
    "df2d = pd.DataFrame(pca.fit_transform(df), columns=list('xy'))\n",
    "df2d.plot(kind='scatter', x='x', y='y')\n",
    "plt.show()"
   ]
  },
  {
   "cell_type": "markdown",
   "metadata": {},
   "source": [
    "Podemos ver que este grafico es una proyeccion de el grafico 3d de arriba, y está, es una reduccion optima, en el sentido de que la varianza es máxima."
   ]
  },
  {
   "cell_type": "markdown",
   "metadata": {},
   "source": [
    "Ahora trabajaremos otra ves con la base de datos de sms"
   ]
  },
  {
   "cell_type": "code",
   "execution_count": 5,
   "metadata": {},
   "outputs": [
    {
     "name": "stderr",
     "output_type": "stream",
     "text": [
      "INFO:nlpia.futil:Reading CSV with `read_csv(*('d:\\\\program files\\\\python37\\\\lib\\\\site-packages\\\\nlpia\\\\data\\\\sms-spam.csv',), **{'nrows': None, 'low_memory': False})`...\n"
     ]
    },
    {
     "data": {
      "text/html": [
       "<div>\n",
       "<style scoped>\n",
       "    .dataframe tbody tr th:only-of-type {\n",
       "        vertical-align: middle;\n",
       "    }\n",
       "\n",
       "    .dataframe tbody tr th {\n",
       "        vertical-align: top;\n",
       "    }\n",
       "\n",
       "    .dataframe thead th {\n",
       "        text-align: right;\n",
       "    }\n",
       "</style>\n",
       "<table border=\"1\" class=\"dataframe\">\n",
       "  <thead>\n",
       "    <tr style=\"text-align: right;\">\n",
       "      <th></th>\n",
       "      <th>spam</th>\n",
       "      <th>text</th>\n",
       "    </tr>\n",
       "  </thead>\n",
       "  <tbody>\n",
       "    <tr>\n",
       "      <th>sms0</th>\n",
       "      <td>0</td>\n",
       "      <td>Go until jurong point, crazy.. Available only ...</td>\n",
       "    </tr>\n",
       "    <tr>\n",
       "      <th>sms1</th>\n",
       "      <td>0</td>\n",
       "      <td>Ok lar... Joking wif u oni...</td>\n",
       "    </tr>\n",
       "    <tr>\n",
       "      <th>sms2!</th>\n",
       "      <td>1</td>\n",
       "      <td>Free entry in 2 a wkly comp to win FA Cup fina...</td>\n",
       "    </tr>\n",
       "    <tr>\n",
       "      <th>sms3</th>\n",
       "      <td>0</td>\n",
       "      <td>U dun say so early hor... U c already then say...</td>\n",
       "    </tr>\n",
       "    <tr>\n",
       "      <th>sms4</th>\n",
       "      <td>0</td>\n",
       "      <td>Nah I don't think he goes to usf, he lives aro...</td>\n",
       "    </tr>\n",
       "    <tr>\n",
       "      <th>sms5!</th>\n",
       "      <td>1</td>\n",
       "      <td>FreeMsg Hey there darling it's been 3 week's n...</td>\n",
       "    </tr>\n",
       "  </tbody>\n",
       "</table>\n",
       "</div>"
      ],
      "text/plain": [
       "       spam                                               text\n",
       "sms0      0  Go until jurong point, crazy.. Available only ...\n",
       "sms1      0                      Ok lar... Joking wif u oni...\n",
       "sms2!     1  Free entry in 2 a wkly comp to win FA Cup fina...\n",
       "sms3      0  U dun say so early hor... U c already then say...\n",
       "sms4      0  Nah I don't think he goes to usf, he lives aro...\n",
       "sms5!     1  FreeMsg Hey there darling it's been 3 week's n..."
      ]
     },
     "execution_count": 5,
     "metadata": {},
     "output_type": "execute_result"
    }
   ],
   "source": [
    "import pandas as pd\n",
    "from nlpia.data.loaders import get_data\n",
    "pd.options.display.width = 120\n",
    "\n",
    "sms = get_data('sms-spam')\n",
    "index = ['sms{}{}'.format(i, '!'*j) for (i,j) in zip(range(len(sms)), sms.spam)]\n",
    "sms.index = index\n",
    "sms.head(6)\n"
   ]
  },
  {
   "cell_type": "markdown",
   "metadata": {},
   "source": [
    "Entonces, vectorizando"
   ]
  },
  {
   "cell_type": "code",
   "execution_count": 7,
   "metadata": {},
   "outputs": [],
   "source": [
    "from sklearn.feature_extraction.text import TfidfVectorizer\n",
    "from nltk.tokenize.casual import casual_tokenize\n",
    "\n",
    "tfidf = TfidfVectorizer(tokenizer=casual_tokenize)\n",
    "tfidf_docs = tfidf.fit_transform(raw_documents=sms.text).toarray()"
   ]
  },
  {
   "cell_type": "code",
   "execution_count": 8,
   "metadata": {},
   "outputs": [
    {
     "data": {
      "text/plain": [
       "9232"
      ]
     },
     "execution_count": 8,
     "metadata": {},
     "output_type": "execute_result"
    }
   ],
   "source": [
    "len(tfidf.vocabulary_)#cantidad de dimensiones"
   ]
  },
  {
   "cell_type": "code",
   "execution_count": 9,
   "metadata": {},
   "outputs": [
    {
     "data": {
      "text/plain": [
       "(4837, 9232)"
      ]
     },
     "execution_count": 9,
     "metadata": {},
     "output_type": "execute_result"
    }
   ],
   "source": [
    "tfidf_docs = pd.DataFrame(tfidf_docs)\n",
    "# X - mu\n",
    "tfidf_docs = tfidf_docs - tfidf_docs.mean()\n",
    "tfidf_docs.shape\n",
    "#numero de documentos, numero de tokens"
   ]
  },
  {
   "cell_type": "code",
   "execution_count": 11,
   "metadata": {},
   "outputs": [
    {
     "data": {
      "text/plain": [
       "638"
      ]
     },
     "execution_count": 11,
     "metadata": {},
     "output_type": "execute_result"
    }
   ],
   "source": [
    "# Hay una cantidad de spam igual a\n",
    "sms.spam.sum()"
   ]
  },
  {
   "cell_type": "markdown",
   "metadata": {},
   "source": [
    "Ahora aplicamos PCA, reduciendo las dimensiones a 16"
   ]
  },
  {
   "cell_type": "code",
   "execution_count": 12,
   "metadata": {},
   "outputs": [
    {
     "data": {
      "text/plain": [
       "(4837, 16)"
      ]
     },
     "execution_count": 12,
     "metadata": {},
     "output_type": "execute_result"
    }
   ],
   "source": [
    "pca = PCA(n_components=16)\n",
    "pca = pca.fit(tfidf_docs)\n",
    "pca_topic_vectors = pca.transform(tfidf_docs)\n",
    "#pca_topic_vectors\n",
    "pca_topic_vectors.shape"
   ]
  },
  {
   "cell_type": "markdown",
   "metadata": {},
   "source": [
    "Ahora bien, que quieren decir estas 16 variables?\n",
    "Ese es el desafio de PCA, obtendremos combinaciones lineales de las columnas de X-mu, pero en terminos descriptivo, PCA no nos dice que obtenemos.\n",
    "Hay que evaluarlo"
   ]
  },
  {
   "cell_type": "code",
   "execution_count": 13,
   "metadata": {
    "scrolled": true
   },
   "outputs": [
    {
     "data": {
      "text/html": [
       "<div>\n",
       "<style scoped>\n",
       "    .dataframe tbody tr th:only-of-type {\n",
       "        vertical-align: middle;\n",
       "    }\n",
       "\n",
       "    .dataframe tbody tr th {\n",
       "        vertical-align: top;\n",
       "    }\n",
       "\n",
       "    .dataframe thead th {\n",
       "        text-align: right;\n",
       "    }\n",
       "</style>\n",
       "<table border=\"1\" class=\"dataframe\">\n",
       "  <thead>\n",
       "    <tr style=\"text-align: right;\">\n",
       "      <th></th>\n",
       "      <th>topic0</th>\n",
       "      <th>topic1</th>\n",
       "      <th>topic2</th>\n",
       "      <th>...</th>\n",
       "      <th>topic13</th>\n",
       "      <th>topic14</th>\n",
       "      <th>topic15</th>\n",
       "    </tr>\n",
       "  </thead>\n",
       "  <tbody>\n",
       "    <tr>\n",
       "      <th>sms0</th>\n",
       "      <td>0.201</td>\n",
       "      <td>0.003</td>\n",
       "      <td>0.037</td>\n",
       "      <td>...</td>\n",
       "      <td>-0.032</td>\n",
       "      <td>-0.014</td>\n",
       "      <td>-0.036</td>\n",
       "    </tr>\n",
       "    <tr>\n",
       "      <th>sms1</th>\n",
       "      <td>0.404</td>\n",
       "      <td>-0.094</td>\n",
       "      <td>-0.078</td>\n",
       "      <td>...</td>\n",
       "      <td>-0.020</td>\n",
       "      <td>0.046</td>\n",
       "      <td>0.051</td>\n",
       "    </tr>\n",
       "    <tr>\n",
       "      <th>sms2!</th>\n",
       "      <td>-0.030</td>\n",
       "      <td>-0.048</td>\n",
       "      <td>0.090</td>\n",
       "      <td>...</td>\n",
       "      <td>-0.021</td>\n",
       "      <td>-0.043</td>\n",
       "      <td>-0.051</td>\n",
       "    </tr>\n",
       "    <tr>\n",
       "      <th>sms3</th>\n",
       "      <td>0.329</td>\n",
       "      <td>-0.033</td>\n",
       "      <td>-0.035</td>\n",
       "      <td>...</td>\n",
       "      <td>-0.045</td>\n",
       "      <td>0.026</td>\n",
       "      <td>0.058</td>\n",
       "    </tr>\n",
       "    <tr>\n",
       "      <th>sms4</th>\n",
       "      <td>0.002</td>\n",
       "      <td>0.031</td>\n",
       "      <td>0.038</td>\n",
       "      <td>...</td>\n",
       "      <td>0.033</td>\n",
       "      <td>-0.086</td>\n",
       "      <td>0.015</td>\n",
       "    </tr>\n",
       "    <tr>\n",
       "      <th>sms5!</th>\n",
       "      <td>-0.016</td>\n",
       "      <td>0.059</td>\n",
       "      <td>0.014</td>\n",
       "      <td>...</td>\n",
       "      <td>0.078</td>\n",
       "      <td>-0.001</td>\n",
       "      <td>-0.053</td>\n",
       "    </tr>\n",
       "  </tbody>\n",
       "</table>\n",
       "<p>6 rows × 16 columns</p>\n",
       "</div>"
      ],
      "text/plain": [
       "       topic0  topic1  topic2  ...  topic13  topic14  topic15\n",
       "sms0    0.201   0.003   0.037  ...   -0.032   -0.014   -0.036\n",
       "sms1    0.404  -0.094  -0.078  ...   -0.020    0.046    0.051\n",
       "sms2!  -0.030  -0.048   0.090  ...   -0.021   -0.043   -0.051\n",
       "sms3    0.329  -0.033  -0.035  ...   -0.045    0.026    0.058\n",
       "sms4    0.002   0.031   0.038  ...    0.033   -0.086    0.015\n",
       "sms5!  -0.016   0.059   0.014  ...    0.078   -0.001   -0.053\n",
       "\n",
       "[6 rows x 16 columns]"
      ]
     },
     "execution_count": 13,
     "metadata": {},
     "output_type": "execute_result"
    }
   ],
   "source": [
    "columns = ['topic{}'.format(i) for i in range(pca.n_components)]\n",
    "pca_topic_vectors = pd.DataFrame(pca_topic_vectors, columns=columns, index=index)\n",
    "pca_topic_vectors.round(3).head(6)"
   ]
  },
  {
   "cell_type": "markdown",
   "metadata": {},
   "source": [
    "Aqui llevamos nuestros valores de PCA a un dataframe, y a cada variable la llamamos como topico 0,1...15, ya que son 16 variables.\n",
    "\n",
    "Entonces la pregunta es, cuanto aparta cada token o cada palabra, en los temas, podemos inspeccionar los pesos de cada palabra en cada topico\n"
   ]
  },
  {
   "cell_type": "code",
   "execution_count": 15,
   "metadata": {},
   "outputs": [],
   "source": [
    "column_nums, terms = zip(*sorted(zip(tfidf.vocabulary_.values(), tfidf.vocabulary_.keys())))"
   ]
  },
  {
   "cell_type": "code",
   "execution_count": 16,
   "metadata": {},
   "outputs": [
    {
     "data": {
      "text/html": [
       "<div>\n",
       "<style scoped>\n",
       "    .dataframe tbody tr th:only-of-type {\n",
       "        vertical-align: middle;\n",
       "    }\n",
       "\n",
       "    .dataframe tbody tr th {\n",
       "        vertical-align: top;\n",
       "    }\n",
       "\n",
       "    .dataframe thead th {\n",
       "        text-align: right;\n",
       "    }\n",
       "</style>\n",
       "<table border=\"1\" class=\"dataframe\">\n",
       "  <thead>\n",
       "    <tr style=\"text-align: right;\">\n",
       "      <th></th>\n",
       "      <th>!</th>\n",
       "      <th>\"</th>\n",
       "      <th>#</th>\n",
       "      <th>#150</th>\n",
       "      <th>...</th>\n",
       "      <th>…</th>\n",
       "      <th>┾</th>\n",
       "      <th>〨ud</th>\n",
       "      <th>鈥</th>\n",
       "    </tr>\n",
       "  </thead>\n",
       "  <tbody>\n",
       "    <tr>\n",
       "      <th>topic0</th>\n",
       "      <td>-0.071</td>\n",
       "      <td>0.008</td>\n",
       "      <td>-0.001</td>\n",
       "      <td>-0.000</td>\n",
       "      <td>...</td>\n",
       "      <td>-0.002</td>\n",
       "      <td>0.001</td>\n",
       "      <td>0.001</td>\n",
       "      <td>0.001</td>\n",
       "    </tr>\n",
       "    <tr>\n",
       "      <th>topic1</th>\n",
       "      <td>0.064</td>\n",
       "      <td>0.008</td>\n",
       "      <td>0.000</td>\n",
       "      <td>-0.000</td>\n",
       "      <td>...</td>\n",
       "      <td>0.003</td>\n",
       "      <td>0.001</td>\n",
       "      <td>0.001</td>\n",
       "      <td>0.001</td>\n",
       "    </tr>\n",
       "    <tr>\n",
       "      <th>topic2</th>\n",
       "      <td>0.071</td>\n",
       "      <td>0.027</td>\n",
       "      <td>0.000</td>\n",
       "      <td>0.001</td>\n",
       "      <td>...</td>\n",
       "      <td>0.002</td>\n",
       "      <td>-0.001</td>\n",
       "      <td>-0.001</td>\n",
       "      <td>-0.001</td>\n",
       "    </tr>\n",
       "    <tr>\n",
       "      <th>topic3</th>\n",
       "      <td>-0.059</td>\n",
       "      <td>-0.032</td>\n",
       "      <td>-0.001</td>\n",
       "      <td>-0.000</td>\n",
       "      <td>...</td>\n",
       "      <td>0.001</td>\n",
       "      <td>0.001</td>\n",
       "      <td>0.001</td>\n",
       "      <td>0.001</td>\n",
       "    </tr>\n",
       "    <tr>\n",
       "      <th>topic4</th>\n",
       "      <td>0.381</td>\n",
       "      <td>-0.009</td>\n",
       "      <td>0.001</td>\n",
       "      <td>0.001</td>\n",
       "      <td>...</td>\n",
       "      <td>0.002</td>\n",
       "      <td>0.001</td>\n",
       "      <td>0.001</td>\n",
       "      <td>0.001</td>\n",
       "    </tr>\n",
       "    <tr>\n",
       "      <th>topic5</th>\n",
       "      <td>-0.265</td>\n",
       "      <td>-0.053</td>\n",
       "      <td>0.002</td>\n",
       "      <td>0.000</td>\n",
       "      <td>...</td>\n",
       "      <td>-0.003</td>\n",
       "      <td>-0.001</td>\n",
       "      <td>-0.001</td>\n",
       "      <td>-0.001</td>\n",
       "    </tr>\n",
       "  </tbody>\n",
       "</table>\n",
       "<p>6 rows × 9232 columns</p>\n",
       "</div>"
      ],
      "text/plain": [
       "            !      \"      #   #150  ...      …      ┾    〨ud      鈥\n",
       "topic0 -0.071  0.008 -0.001 -0.000  ... -0.002  0.001  0.001  0.001\n",
       "topic1  0.064  0.008  0.000 -0.000  ...  0.003  0.001  0.001  0.001\n",
       "topic2  0.071  0.027  0.000  0.001  ...  0.002 -0.001 -0.001 -0.001\n",
       "topic3 -0.059 -0.032 -0.001 -0.000  ...  0.001  0.001  0.001  0.001\n",
       "topic4  0.381 -0.009  0.001  0.001  ...  0.002  0.001  0.001  0.001\n",
       "topic5 -0.265 -0.053  0.002  0.000  ... -0.003 -0.001 -0.001 -0.001\n",
       "\n",
       "[6 rows x 9232 columns]"
      ]
     },
     "execution_count": 16,
     "metadata": {},
     "output_type": "execute_result"
    }
   ],
   "source": [
    "weights = pd.DataFrame(pca.components_, columns=terms, index=['topic{}'.format(i) for i in range(16)])\n",
    "\n",
    "pd.options.display.max_columns = 8\n",
    "weights.head(6).round(3)"
   ]
  },
  {
   "cell_type": "markdown",
   "metadata": {},
   "source": [
    "Entonces, uno al tener esa informacion, uno puede intentar hacer un análisi de qué trata el topico respecto las palabras con más peso."
   ]
  },
  {
   "cell_type": "code",
   "execution_count": 20,
   "metadata": {},
   "outputs": [
    {
     "data": {
      "text/html": [
       "<div>\n",
       "<style scoped>\n",
       "    .dataframe tbody tr th:only-of-type {\n",
       "        vertical-align: middle;\n",
       "    }\n",
       "\n",
       "    .dataframe tbody tr th {\n",
       "        vertical-align: top;\n",
       "    }\n",
       "\n",
       "    .dataframe thead th {\n",
       "        text-align: right;\n",
       "    }\n",
       "</style>\n",
       "<table border=\"1\" class=\"dataframe\">\n",
       "  <thead>\n",
       "    <tr style=\"text-align: right;\">\n",
       "      <th></th>\n",
       "      <th>!</th>\n",
       "      <th>\"</th>\n",
       "      <th>#</th>\n",
       "      <th>#150</th>\n",
       "      <th>#5000</th>\n",
       "      <th>$</th>\n",
       "      <th>...</th>\n",
       "      <th>’</th>\n",
       "      <th>“</th>\n",
       "      <th>…</th>\n",
       "      <th>┾</th>\n",
       "      <th>〨ud</th>\n",
       "      <th>鈥</th>\n",
       "    </tr>\n",
       "  </thead>\n",
       "  <tbody>\n",
       "    <tr>\n",
       "      <th>topic0</th>\n",
       "      <td>-0.071</td>\n",
       "      <td>0.008</td>\n",
       "      <td>-0.001</td>\n",
       "      <td>-0.000</td>\n",
       "      <td>-0.001</td>\n",
       "      <td>0.003</td>\n",
       "      <td>...</td>\n",
       "      <td>-0.001</td>\n",
       "      <td>-0.001</td>\n",
       "      <td>-0.002</td>\n",
       "      <td>0.001</td>\n",
       "      <td>0.001</td>\n",
       "      <td>0.001</td>\n",
       "    </tr>\n",
       "    <tr>\n",
       "      <th>topic1</th>\n",
       "      <td>0.064</td>\n",
       "      <td>0.008</td>\n",
       "      <td>0.000</td>\n",
       "      <td>-0.000</td>\n",
       "      <td>-0.001</td>\n",
       "      <td>-0.001</td>\n",
       "      <td>...</td>\n",
       "      <td>-0.001</td>\n",
       "      <td>-0.001</td>\n",
       "      <td>0.003</td>\n",
       "      <td>0.001</td>\n",
       "      <td>0.001</td>\n",
       "      <td>0.001</td>\n",
       "    </tr>\n",
       "    <tr>\n",
       "      <th>topic2</th>\n",
       "      <td>0.071</td>\n",
       "      <td>0.027</td>\n",
       "      <td>0.000</td>\n",
       "      <td>0.001</td>\n",
       "      <td>0.002</td>\n",
       "      <td>0.000</td>\n",
       "      <td>...</td>\n",
       "      <td>0.000</td>\n",
       "      <td>0.001</td>\n",
       "      <td>0.002</td>\n",
       "      <td>-0.001</td>\n",
       "      <td>-0.001</td>\n",
       "      <td>-0.001</td>\n",
       "    </tr>\n",
       "    <tr>\n",
       "      <th>topic3</th>\n",
       "      <td>-0.059</td>\n",
       "      <td>-0.032</td>\n",
       "      <td>-0.001</td>\n",
       "      <td>-0.000</td>\n",
       "      <td>-0.001</td>\n",
       "      <td>0.001</td>\n",
       "      <td>...</td>\n",
       "      <td>-0.000</td>\n",
       "      <td>-0.000</td>\n",
       "      <td>0.001</td>\n",
       "      <td>0.001</td>\n",
       "      <td>0.001</td>\n",
       "      <td>0.001</td>\n",
       "    </tr>\n",
       "    <tr>\n",
       "      <th>topic4</th>\n",
       "      <td>0.381</td>\n",
       "      <td>-0.009</td>\n",
       "      <td>0.001</td>\n",
       "      <td>0.001</td>\n",
       "      <td>0.004</td>\n",
       "      <td>0.003</td>\n",
       "      <td>...</td>\n",
       "      <td>0.001</td>\n",
       "      <td>0.001</td>\n",
       "      <td>0.002</td>\n",
       "      <td>0.001</td>\n",
       "      <td>0.001</td>\n",
       "      <td>0.001</td>\n",
       "    </tr>\n",
       "    <tr>\n",
       "      <th>topic5</th>\n",
       "      <td>-0.265</td>\n",
       "      <td>-0.053</td>\n",
       "      <td>0.002</td>\n",
       "      <td>0.000</td>\n",
       "      <td>-0.001</td>\n",
       "      <td>-0.009</td>\n",
       "      <td>...</td>\n",
       "      <td>0.000</td>\n",
       "      <td>-0.000</td>\n",
       "      <td>-0.003</td>\n",
       "      <td>-0.001</td>\n",
       "      <td>-0.001</td>\n",
       "      <td>-0.001</td>\n",
       "    </tr>\n",
       "  </tbody>\n",
       "</table>\n",
       "<p>6 rows × 9232 columns</p>\n",
       "</div>"
      ],
      "text/plain": [
       "            !      \"      #   #150  #5000      $  ...      ’      “      …      ┾    〨ud      鈥\n",
       "topic0 -0.071  0.008 -0.001 -0.000 -0.001  0.003  ... -0.001 -0.001 -0.002  0.001  0.001  0.001\n",
       "topic1  0.064  0.008  0.000 -0.000 -0.001 -0.001  ... -0.001 -0.001  0.003  0.001  0.001  0.001\n",
       "topic2  0.071  0.027  0.000  0.001  0.002  0.000  ...  0.000  0.001  0.002 -0.001 -0.001 -0.001\n",
       "topic3 -0.059 -0.032 -0.001 -0.000 -0.001  0.001  ... -0.000 -0.000  0.001  0.001  0.001  0.001\n",
       "topic4  0.381 -0.009  0.001  0.001  0.004  0.003  ...  0.001  0.001  0.002  0.001  0.001  0.001\n",
       "topic5 -0.265 -0.053  0.002  0.000 -0.001 -0.009  ...  0.000 -0.000 -0.003 -0.001 -0.001 -0.001\n",
       "\n",
       "[6 rows x 9232 columns]"
      ]
     },
     "execution_count": 20,
     "metadata": {},
     "output_type": "execute_result"
    }
   ],
   "source": [
    "pd.options.display.max_columns = 12\n",
    "weights = pd.DataFrame(pca.components_, columns=terms, index=['topic{}'.format(i) for i in range(16)])\n",
    "weights.head(6).round(3)"
   ]
  },
  {
   "cell_type": "code",
   "execution_count": 18,
   "metadata": {
    "scrolled": true
   },
   "outputs": [
    {
     "data": {
      "text/html": [
       "<div>\n",
       "<style scoped>\n",
       "    .dataframe tbody tr th:only-of-type {\n",
       "        vertical-align: middle;\n",
       "    }\n",
       "\n",
       "    .dataframe tbody tr th {\n",
       "        vertical-align: top;\n",
       "    }\n",
       "\n",
       "    .dataframe thead th {\n",
       "        text-align: right;\n",
       "    }\n",
       "</style>\n",
       "<table border=\"1\" class=\"dataframe\">\n",
       "  <thead>\n",
       "    <tr style=\"text-align: right;\">\n",
       "      <th></th>\n",
       "      <th>!</th>\n",
       "      <th>;)</th>\n",
       "      <th>:)</th>\n",
       "      <th>half</th>\n",
       "      <th>off</th>\n",
       "      <th>free</th>\n",
       "      <th>crazy</th>\n",
       "      <th>deal</th>\n",
       "      <th>only</th>\n",
       "      <th>$</th>\n",
       "      <th>80</th>\n",
       "      <th>%</th>\n",
       "    </tr>\n",
       "  </thead>\n",
       "  <tbody>\n",
       "    <tr>\n",
       "      <th>topic0</th>\n",
       "      <td>-7.1</td>\n",
       "      <td>0.1</td>\n",
       "      <td>-0.5</td>\n",
       "      <td>-0.0</td>\n",
       "      <td>-0.4</td>\n",
       "      <td>-2.0</td>\n",
       "      <td>-0.0</td>\n",
       "      <td>-0.1</td>\n",
       "      <td>-2.2</td>\n",
       "      <td>0.3</td>\n",
       "      <td>-0.0</td>\n",
       "      <td>-0.0</td>\n",
       "    </tr>\n",
       "    <tr>\n",
       "      <th>topic1</th>\n",
       "      <td>6.4</td>\n",
       "      <td>0.0</td>\n",
       "      <td>7.4</td>\n",
       "      <td>0.1</td>\n",
       "      <td>0.4</td>\n",
       "      <td>-2.3</td>\n",
       "      <td>-0.2</td>\n",
       "      <td>-0.1</td>\n",
       "      <td>-3.8</td>\n",
       "      <td>-0.1</td>\n",
       "      <td>-0.0</td>\n",
       "      <td>-0.2</td>\n",
       "    </tr>\n",
       "    <tr>\n",
       "      <th>topic2</th>\n",
       "      <td>7.1</td>\n",
       "      <td>0.2</td>\n",
       "      <td>-0.1</td>\n",
       "      <td>0.0</td>\n",
       "      <td>0.3</td>\n",
       "      <td>4.4</td>\n",
       "      <td>0.1</td>\n",
       "      <td>-0.1</td>\n",
       "      <td>0.7</td>\n",
       "      <td>0.0</td>\n",
       "      <td>0.0</td>\n",
       "      <td>0.1</td>\n",
       "    </tr>\n",
       "    <tr>\n",
       "      <th>topic3</th>\n",
       "      <td>-5.9</td>\n",
       "      <td>-0.3</td>\n",
       "      <td>-7.1</td>\n",
       "      <td>0.2</td>\n",
       "      <td>0.3</td>\n",
       "      <td>-0.2</td>\n",
       "      <td>0.0</td>\n",
       "      <td>0.1</td>\n",
       "      <td>-2.3</td>\n",
       "      <td>0.1</td>\n",
       "      <td>-0.1</td>\n",
       "      <td>-0.3</td>\n",
       "    </tr>\n",
       "    <tr>\n",
       "      <th>topic4</th>\n",
       "      <td>38.1</td>\n",
       "      <td>-0.1</td>\n",
       "      <td>-12.4</td>\n",
       "      <td>-0.1</td>\n",
       "      <td>-0.2</td>\n",
       "      <td>9.9</td>\n",
       "      <td>0.1</td>\n",
       "      <td>-0.2</td>\n",
       "      <td>3.0</td>\n",
       "      <td>0.3</td>\n",
       "      <td>0.1</td>\n",
       "      <td>-0.1</td>\n",
       "    </tr>\n",
       "    <tr>\n",
       "      <th>topic5</th>\n",
       "      <td>-26.5</td>\n",
       "      <td>0.1</td>\n",
       "      <td>-1.6</td>\n",
       "      <td>-0.3</td>\n",
       "      <td>-0.7</td>\n",
       "      <td>-1.4</td>\n",
       "      <td>-0.6</td>\n",
       "      <td>-0.2</td>\n",
       "      <td>-1.8</td>\n",
       "      <td>-0.9</td>\n",
       "      <td>0.0</td>\n",
       "      <td>0.0</td>\n",
       "    </tr>\n",
       "    <tr>\n",
       "      <th>topic6</th>\n",
       "      <td>-10.9</td>\n",
       "      <td>-0.5</td>\n",
       "      <td>19.9</td>\n",
       "      <td>-0.4</td>\n",
       "      <td>-0.9</td>\n",
       "      <td>-0.6</td>\n",
       "      <td>-0.2</td>\n",
       "      <td>-0.1</td>\n",
       "      <td>-1.4</td>\n",
       "      <td>-0.0</td>\n",
       "      <td>-0.0</td>\n",
       "      <td>-0.1</td>\n",
       "    </tr>\n",
       "    <tr>\n",
       "      <th>topic7</th>\n",
       "      <td>15.9</td>\n",
       "      <td>0.1</td>\n",
       "      <td>-17.9</td>\n",
       "      <td>0.8</td>\n",
       "      <td>0.8</td>\n",
       "      <td>-2.7</td>\n",
       "      <td>0.0</td>\n",
       "      <td>0.0</td>\n",
       "      <td>-1.9</td>\n",
       "      <td>-0.3</td>\n",
       "      <td>0.0</td>\n",
       "      <td>-0.1</td>\n",
       "    </tr>\n",
       "    <tr>\n",
       "      <th>topic8</th>\n",
       "      <td>34.5</td>\n",
       "      <td>0.1</td>\n",
       "      <td>5.0</td>\n",
       "      <td>-0.4</td>\n",
       "      <td>-0.5</td>\n",
       "      <td>0.2</td>\n",
       "      <td>-0.4</td>\n",
       "      <td>-0.4</td>\n",
       "      <td>3.3</td>\n",
       "      <td>-0.6</td>\n",
       "      <td>-0.0</td>\n",
       "      <td>-0.2</td>\n",
       "    </tr>\n",
       "    <tr>\n",
       "      <th>topic9</th>\n",
       "      <td>7.4</td>\n",
       "      <td>-0.3</td>\n",
       "      <td>17.1</td>\n",
       "      <td>1.4</td>\n",
       "      <td>-0.9</td>\n",
       "      <td>6.3</td>\n",
       "      <td>-0.5</td>\n",
       "      <td>-0.4</td>\n",
       "      <td>3.1</td>\n",
       "      <td>-0.5</td>\n",
       "      <td>-0.0</td>\n",
       "      <td>-0.0</td>\n",
       "    </tr>\n",
       "    <tr>\n",
       "      <th>topic10</th>\n",
       "      <td>-31.7</td>\n",
       "      <td>-0.2</td>\n",
       "      <td>-9.7</td>\n",
       "      <td>0.1</td>\n",
       "      <td>0.1</td>\n",
       "      <td>12.4</td>\n",
       "      <td>0.1</td>\n",
       "      <td>0.0</td>\n",
       "      <td>0.4</td>\n",
       "      <td>-0.0</td>\n",
       "      <td>-0.1</td>\n",
       "      <td>-0.2</td>\n",
       "    </tr>\n",
       "    <tr>\n",
       "      <th>topic11</th>\n",
       "      <td>20.7</td>\n",
       "      <td>0.4</td>\n",
       "      <td>32.1</td>\n",
       "      <td>0.4</td>\n",
       "      <td>1.4</td>\n",
       "      <td>-5.2</td>\n",
       "      <td>-0.0</td>\n",
       "      <td>0.1</td>\n",
       "      <td>0.2</td>\n",
       "      <td>-0.5</td>\n",
       "      <td>-0.0</td>\n",
       "      <td>-0.4</td>\n",
       "    </tr>\n",
       "    <tr>\n",
       "      <th>topic12</th>\n",
       "      <td>-23.8</td>\n",
       "      <td>-0.3</td>\n",
       "      <td>36.4</td>\n",
       "      <td>-0.0</td>\n",
       "      <td>0.2</td>\n",
       "      <td>-2.5</td>\n",
       "      <td>-0.7</td>\n",
       "      <td>0.2</td>\n",
       "      <td>3.6</td>\n",
       "      <td>0.3</td>\n",
       "      <td>-0.0</td>\n",
       "      <td>0.3</td>\n",
       "    </tr>\n",
       "    <tr>\n",
       "      <th>topic13</th>\n",
       "      <td>14.9</td>\n",
       "      <td>-0.2</td>\n",
       "      <td>28.3</td>\n",
       "      <td>-0.4</td>\n",
       "      <td>0.4</td>\n",
       "      <td>5.7</td>\n",
       "      <td>0.5</td>\n",
       "      <td>0.1</td>\n",
       "      <td>-2.2</td>\n",
       "      <td>-0.2</td>\n",
       "      <td>0.0</td>\n",
       "      <td>-0.2</td>\n",
       "    </tr>\n",
       "    <tr>\n",
       "      <th>topic14</th>\n",
       "      <td>-0.4</td>\n",
       "      <td>-0.1</td>\n",
       "      <td>16.0</td>\n",
       "      <td>-0.0</td>\n",
       "      <td>-1.0</td>\n",
       "      <td>6.2</td>\n",
       "      <td>0.2</td>\n",
       "      <td>-0.0</td>\n",
       "      <td>4.6</td>\n",
       "      <td>-0.1</td>\n",
       "      <td>0.1</td>\n",
       "      <td>-0.3</td>\n",
       "    </tr>\n",
       "    <tr>\n",
       "      <th>topic15</th>\n",
       "      <td>-12.0</td>\n",
       "      <td>0.7</td>\n",
       "      <td>2.0</td>\n",
       "      <td>0.8</td>\n",
       "      <td>1.3</td>\n",
       "      <td>5.0</td>\n",
       "      <td>0.4</td>\n",
       "      <td>-0.4</td>\n",
       "      <td>-0.7</td>\n",
       "      <td>0.5</td>\n",
       "      <td>-0.1</td>\n",
       "      <td>0.2</td>\n",
       "    </tr>\n",
       "  </tbody>\n",
       "</table>\n",
       "</div>"
      ],
      "text/plain": [
       "            !   ;)    :)  half  off  free  crazy  deal  only    $   80    %\n",
       "topic0   -7.1  0.1  -0.5  -0.0 -0.4  -2.0   -0.0  -0.1  -2.2  0.3 -0.0 -0.0\n",
       "topic1    6.4  0.0   7.4   0.1  0.4  -2.3   -0.2  -0.1  -3.8 -0.1 -0.0 -0.2\n",
       "topic2    7.1  0.2  -0.1   0.0  0.3   4.4    0.1  -0.1   0.7  0.0  0.0  0.1\n",
       "topic3   -5.9 -0.3  -7.1   0.2  0.3  -0.2    0.0   0.1  -2.3  0.1 -0.1 -0.3\n",
       "topic4   38.1 -0.1 -12.4  -0.1 -0.2   9.9    0.1  -0.2   3.0  0.3  0.1 -0.1\n",
       "topic5  -26.5  0.1  -1.6  -0.3 -0.7  -1.4   -0.6  -0.2  -1.8 -0.9  0.0  0.0\n",
       "topic6  -10.9 -0.5  19.9  -0.4 -0.9  -0.6   -0.2  -0.1  -1.4 -0.0 -0.0 -0.1\n",
       "topic7   15.9  0.1 -17.9   0.8  0.8  -2.7    0.0   0.0  -1.9 -0.3  0.0 -0.1\n",
       "topic8   34.5  0.1   5.0  -0.4 -0.5   0.2   -0.4  -0.4   3.3 -0.6 -0.0 -0.2\n",
       "topic9    7.4 -0.3  17.1   1.4 -0.9   6.3   -0.5  -0.4   3.1 -0.5 -0.0 -0.0\n",
       "topic10 -31.7 -0.2  -9.7   0.1  0.1  12.4    0.1   0.0   0.4 -0.0 -0.1 -0.2\n",
       "topic11  20.7  0.4  32.1   0.4  1.4  -5.2   -0.0   0.1   0.2 -0.5 -0.0 -0.4\n",
       "topic12 -23.8 -0.3  36.4  -0.0  0.2  -2.5   -0.7   0.2   3.6  0.3 -0.0  0.3\n",
       "topic13  14.9 -0.2  28.3  -0.4  0.4   5.7    0.5   0.1  -2.2 -0.2  0.0 -0.2\n",
       "topic14  -0.4 -0.1  16.0  -0.0 -1.0   6.2    0.2  -0.0   4.6 -0.1  0.1 -0.3\n",
       "topic15 -12.0  0.7   2.0   0.8  1.3   5.0    0.4  -0.4  -0.7  0.5 -0.1  0.2"
      ]
     },
     "execution_count": 18,
     "metadata": {},
     "output_type": "execute_result"
    }
   ],
   "source": [
    "deals = weights['! ;) :) half off free crazy deal only $ 80 %'.split()].round(3)*100\n",
    "deals"
   ]
  },
  {
   "cell_type": "markdown",
   "metadata": {},
   "source": [
    "Dandole mensajes, es una forma de ver en que trata los topicos que creo PCA"
   ]
  },
  {
   "cell_type": "code",
   "execution_count": 19,
   "metadata": {},
   "outputs": [
    {
     "data": {
      "text/plain": [
       "topic0    -11.9\n",
       "topic1      7.6\n",
       "topic2     12.7\n",
       "topic3    -15.5\n",
       "topic4     38.4\n",
       "topic5    -33.9\n",
       "topic6      4.8\n",
       "topic7     -5.3\n",
       "topic8     40.6\n",
       "topic9     32.7\n",
       "topic10   -28.8\n",
       "topic11    49.2\n",
       "topic12    13.7\n",
       "topic13    46.7\n",
       "topic14    25.2\n",
       "topic15    -2.3\n",
       "dtype: float64"
      ]
     },
     "execution_count": 19,
     "metadata": {},
     "output_type": "execute_result"
    }
   ],
   "source": [
    "deals.T.sum()"
   ]
  },
  {
   "cell_type": "markdown",
   "metadata": {},
   "source": [
    "Esto es un algoritmo de aprendizaje no supervisado, por lo que puede que los topicos no tengan mucho sentido\n",
    "\n"
   ]
  },
  {
   "cell_type": "markdown",
   "metadata": {},
   "source": [
    "# Tercer Algoritmo: SVD truncado"
   ]
  },
  {
   "cell_type": "code",
   "execution_count": 21,
   "metadata": {},
   "outputs": [
    {
     "data": {
      "text/html": [
       "<div>\n",
       "<style scoped>\n",
       "    .dataframe tbody tr th:only-of-type {\n",
       "        vertical-align: middle;\n",
       "    }\n",
       "\n",
       "    .dataframe tbody tr th {\n",
       "        vertical-align: top;\n",
       "    }\n",
       "\n",
       "    .dataframe thead th {\n",
       "        text-align: right;\n",
       "    }\n",
       "</style>\n",
       "<table border=\"1\" class=\"dataframe\">\n",
       "  <thead>\n",
       "    <tr style=\"text-align: right;\">\n",
       "      <th></th>\n",
       "      <th>topic0</th>\n",
       "      <th>topic1</th>\n",
       "      <th>topic2</th>\n",
       "      <th>topic3</th>\n",
       "      <th>topic4</th>\n",
       "      <th>topic5</th>\n",
       "      <th>...</th>\n",
       "      <th>topic10</th>\n",
       "      <th>topic11</th>\n",
       "      <th>topic12</th>\n",
       "      <th>topic13</th>\n",
       "      <th>topic14</th>\n",
       "      <th>topic15</th>\n",
       "    </tr>\n",
       "  </thead>\n",
       "  <tbody>\n",
       "    <tr>\n",
       "      <th>sms0</th>\n",
       "      <td>0.201</td>\n",
       "      <td>0.003</td>\n",
       "      <td>0.037</td>\n",
       "      <td>0.011</td>\n",
       "      <td>-0.019</td>\n",
       "      <td>-0.053</td>\n",
       "      <td>...</td>\n",
       "      <td>0.007</td>\n",
       "      <td>-0.007</td>\n",
       "      <td>0.002</td>\n",
       "      <td>-0.036</td>\n",
       "      <td>-0.014</td>\n",
       "      <td>0.037</td>\n",
       "    </tr>\n",
       "    <tr>\n",
       "      <th>sms1</th>\n",
       "      <td>0.404</td>\n",
       "      <td>-0.094</td>\n",
       "      <td>-0.078</td>\n",
       "      <td>0.051</td>\n",
       "      <td>0.100</td>\n",
       "      <td>0.047</td>\n",
       "      <td>...</td>\n",
       "      <td>-0.004</td>\n",
       "      <td>0.036</td>\n",
       "      <td>0.043</td>\n",
       "      <td>-0.021</td>\n",
       "      <td>0.051</td>\n",
       "      <td>-0.042</td>\n",
       "    </tr>\n",
       "    <tr>\n",
       "      <th>sms2!</th>\n",
       "      <td>-0.030</td>\n",
       "      <td>-0.048</td>\n",
       "      <td>0.090</td>\n",
       "      <td>-0.067</td>\n",
       "      <td>0.091</td>\n",
       "      <td>-0.043</td>\n",
       "      <td>...</td>\n",
       "      <td>0.125</td>\n",
       "      <td>0.023</td>\n",
       "      <td>0.026</td>\n",
       "      <td>-0.020</td>\n",
       "      <td>-0.042</td>\n",
       "      <td>0.052</td>\n",
       "    </tr>\n",
       "    <tr>\n",
       "      <th>sms3</th>\n",
       "      <td>0.329</td>\n",
       "      <td>-0.033</td>\n",
       "      <td>-0.035</td>\n",
       "      <td>-0.016</td>\n",
       "      <td>0.052</td>\n",
       "      <td>0.056</td>\n",
       "      <td>...</td>\n",
       "      <td>0.022</td>\n",
       "      <td>0.023</td>\n",
       "      <td>0.073</td>\n",
       "      <td>-0.046</td>\n",
       "      <td>0.022</td>\n",
       "      <td>-0.070</td>\n",
       "    </tr>\n",
       "    <tr>\n",
       "      <th>sms4</th>\n",
       "      <td>0.002</td>\n",
       "      <td>0.031</td>\n",
       "      <td>0.038</td>\n",
       "      <td>0.034</td>\n",
       "      <td>-0.075</td>\n",
       "      <td>-0.093</td>\n",
       "      <td>...</td>\n",
       "      <td>0.028</td>\n",
       "      <td>-0.009</td>\n",
       "      <td>0.027</td>\n",
       "      <td>0.034</td>\n",
       "      <td>-0.083</td>\n",
       "      <td>-0.021</td>\n",
       "    </tr>\n",
       "    <tr>\n",
       "      <th>sms5!</th>\n",
       "      <td>-0.016</td>\n",
       "      <td>0.059</td>\n",
       "      <td>0.014</td>\n",
       "      <td>-0.006</td>\n",
       "      <td>0.122</td>\n",
       "      <td>-0.040</td>\n",
       "      <td>...</td>\n",
       "      <td>0.041</td>\n",
       "      <td>0.055</td>\n",
       "      <td>-0.037</td>\n",
       "      <td>0.075</td>\n",
       "      <td>-0.001</td>\n",
       "      <td>0.020</td>\n",
       "    </tr>\n",
       "  </tbody>\n",
       "</table>\n",
       "<p>6 rows × 16 columns</p>\n",
       "</div>"
      ],
      "text/plain": [
       "       topic0  topic1  topic2  topic3  topic4  topic5  ...  topic10  topic11  topic12  topic13  topic14  topic15\n",
       "sms0    0.201   0.003   0.037   0.011  -0.019  -0.053  ...    0.007   -0.007    0.002   -0.036   -0.014    0.037\n",
       "sms1    0.404  -0.094  -0.078   0.051   0.100   0.047  ...   -0.004    0.036    0.043   -0.021    0.051   -0.042\n",
       "sms2!  -0.030  -0.048   0.090  -0.067   0.091  -0.043  ...    0.125    0.023    0.026   -0.020   -0.042    0.052\n",
       "sms3    0.329  -0.033  -0.035  -0.016   0.052   0.056  ...    0.022    0.023    0.073   -0.046    0.022   -0.070\n",
       "sms4    0.002   0.031   0.038   0.034  -0.075  -0.093  ...    0.028   -0.009    0.027    0.034   -0.083   -0.021\n",
       "sms5!  -0.016   0.059   0.014  -0.006   0.122  -0.040  ...    0.041    0.055   -0.037    0.075   -0.001    0.020\n",
       "\n",
       "[6 rows x 16 columns]"
      ]
     },
     "execution_count": 21,
     "metadata": {},
     "output_type": "execute_result"
    }
   ],
   "source": [
    "from sklearn.decomposition import TruncatedSVD\n",
    "\n",
    "svd = TruncatedSVD(n_components=16, n_iter=100)\n",
    "svd_topic_vectors = svd.fit_transform(tfidf_docs.values)\n",
    "svd_topic_vectors = pd.DataFrame(svd_topic_vectors, columns=columns, index=index)\n",
    "\n",
    "svd_topic_vectors.round(3).head(6)"
   ]
  },
  {
   "cell_type": "markdown",
   "metadata": {},
   "source": [
    "Si uno examina esta matriz, es exactamente la que dio PCA"
   ]
  },
  {
   "cell_type": "markdown",
   "metadata": {},
   "source": [
    "Finalmente, calcularemos la similitud coseno, entre los SMS, dada estas 16 variables. (Recordar que aquellos con !, son spam)"
   ]
  },
  {
   "cell_type": "code",
   "execution_count": 22,
   "metadata": {},
   "outputs": [
    {
     "data": {
      "text/html": [
       "<div>\n",
       "<style scoped>\n",
       "    .dataframe tbody tr th:only-of-type {\n",
       "        vertical-align: middle;\n",
       "    }\n",
       "\n",
       "    .dataframe tbody tr th {\n",
       "        vertical-align: top;\n",
       "    }\n",
       "\n",
       "    .dataframe thead th {\n",
       "        text-align: right;\n",
       "    }\n",
       "</style>\n",
       "<table border=\"1\" class=\"dataframe\">\n",
       "  <thead>\n",
       "    <tr style=\"text-align: right;\">\n",
       "      <th></th>\n",
       "      <th>sms0</th>\n",
       "      <th>sms1</th>\n",
       "      <th>sms2!</th>\n",
       "      <th>sms3</th>\n",
       "      <th>sms4</th>\n",
       "      <th>sms5!</th>\n",
       "      <th>sms6</th>\n",
       "      <th>sms7</th>\n",
       "      <th>sms8!</th>\n",
       "      <th>sms9!</th>\n",
       "    </tr>\n",
       "  </thead>\n",
       "  <tbody>\n",
       "    <tr>\n",
       "      <th>sms0</th>\n",
       "      <td>1.0</td>\n",
       "      <td>0.6</td>\n",
       "      <td>-0.1</td>\n",
       "      <td>0.6</td>\n",
       "      <td>-0.0</td>\n",
       "      <td>-0.3</td>\n",
       "      <td>-0.3</td>\n",
       "      <td>-0.1</td>\n",
       "      <td>-0.3</td>\n",
       "      <td>-0.3</td>\n",
       "    </tr>\n",
       "    <tr>\n",
       "      <th>sms1</th>\n",
       "      <td>0.6</td>\n",
       "      <td>1.0</td>\n",
       "      <td>-0.2</td>\n",
       "      <td>0.8</td>\n",
       "      <td>-0.2</td>\n",
       "      <td>0.0</td>\n",
       "      <td>-0.2</td>\n",
       "      <td>-0.2</td>\n",
       "      <td>-0.1</td>\n",
       "      <td>-0.1</td>\n",
       "    </tr>\n",
       "    <tr>\n",
       "      <th>sms2!</th>\n",
       "      <td>-0.1</td>\n",
       "      <td>-0.2</td>\n",
       "      <td>1.0</td>\n",
       "      <td>-0.2</td>\n",
       "      <td>0.1</td>\n",
       "      <td>0.4</td>\n",
       "      <td>0.0</td>\n",
       "      <td>0.3</td>\n",
       "      <td>0.5</td>\n",
       "      <td>0.4</td>\n",
       "    </tr>\n",
       "    <tr>\n",
       "      <th>sms3</th>\n",
       "      <td>0.6</td>\n",
       "      <td>0.8</td>\n",
       "      <td>-0.2</td>\n",
       "      <td>1.0</td>\n",
       "      <td>-0.2</td>\n",
       "      <td>-0.3</td>\n",
       "      <td>-0.1</td>\n",
       "      <td>-0.3</td>\n",
       "      <td>-0.2</td>\n",
       "      <td>-0.1</td>\n",
       "    </tr>\n",
       "    <tr>\n",
       "      <th>sms4</th>\n",
       "      <td>-0.0</td>\n",
       "      <td>-0.2</td>\n",
       "      <td>0.1</td>\n",
       "      <td>-0.2</td>\n",
       "      <td>1.0</td>\n",
       "      <td>0.2</td>\n",
       "      <td>0.0</td>\n",
       "      <td>0.1</td>\n",
       "      <td>-0.4</td>\n",
       "      <td>-0.2</td>\n",
       "    </tr>\n",
       "    <tr>\n",
       "      <th>sms5!</th>\n",
       "      <td>-0.3</td>\n",
       "      <td>0.0</td>\n",
       "      <td>0.4</td>\n",
       "      <td>-0.3</td>\n",
       "      <td>0.2</td>\n",
       "      <td>1.0</td>\n",
       "      <td>-0.1</td>\n",
       "      <td>0.1</td>\n",
       "      <td>0.3</td>\n",
       "      <td>0.4</td>\n",
       "    </tr>\n",
       "    <tr>\n",
       "      <th>sms6</th>\n",
       "      <td>-0.3</td>\n",
       "      <td>-0.2</td>\n",
       "      <td>0.0</td>\n",
       "      <td>-0.1</td>\n",
       "      <td>0.0</td>\n",
       "      <td>-0.1</td>\n",
       "      <td>1.0</td>\n",
       "      <td>0.1</td>\n",
       "      <td>-0.2</td>\n",
       "      <td>-0.2</td>\n",
       "    </tr>\n",
       "    <tr>\n",
       "      <th>sms7</th>\n",
       "      <td>-0.1</td>\n",
       "      <td>-0.2</td>\n",
       "      <td>0.3</td>\n",
       "      <td>-0.3</td>\n",
       "      <td>0.1</td>\n",
       "      <td>0.1</td>\n",
       "      <td>0.1</td>\n",
       "      <td>1.0</td>\n",
       "      <td>0.1</td>\n",
       "      <td>0.4</td>\n",
       "    </tr>\n",
       "    <tr>\n",
       "      <th>sms8!</th>\n",
       "      <td>-0.3</td>\n",
       "      <td>-0.1</td>\n",
       "      <td>0.5</td>\n",
       "      <td>-0.2</td>\n",
       "      <td>-0.4</td>\n",
       "      <td>0.3</td>\n",
       "      <td>-0.2</td>\n",
       "      <td>0.1</td>\n",
       "      <td>1.0</td>\n",
       "      <td>0.3</td>\n",
       "    </tr>\n",
       "    <tr>\n",
       "      <th>sms9!</th>\n",
       "      <td>-0.3</td>\n",
       "      <td>-0.1</td>\n",
       "      <td>0.4</td>\n",
       "      <td>-0.1</td>\n",
       "      <td>-0.2</td>\n",
       "      <td>0.4</td>\n",
       "      <td>-0.2</td>\n",
       "      <td>0.4</td>\n",
       "      <td>0.3</td>\n",
       "      <td>1.0</td>\n",
       "    </tr>\n",
       "  </tbody>\n",
       "</table>\n",
       "</div>"
      ],
      "text/plain": [
       "       sms0  sms1  sms2!  sms3  sms4  sms5!  sms6  sms7  sms8!  sms9!\n",
       "sms0    1.0   0.6   -0.1   0.6  -0.0   -0.3  -0.3  -0.1   -0.3   -0.3\n",
       "sms1    0.6   1.0   -0.2   0.8  -0.2    0.0  -0.2  -0.2   -0.1   -0.1\n",
       "sms2!  -0.1  -0.2    1.0  -0.2   0.1    0.4   0.0   0.3    0.5    0.4\n",
       "sms3    0.6   0.8   -0.2   1.0  -0.2   -0.3  -0.1  -0.3   -0.2   -0.1\n",
       "sms4   -0.0  -0.2    0.1  -0.2   1.0    0.2   0.0   0.1   -0.4   -0.2\n",
       "sms5!  -0.3   0.0    0.4  -0.3   0.2    1.0  -0.1   0.1    0.3    0.4\n",
       "sms6   -0.3  -0.2    0.0  -0.1   0.0   -0.1   1.0   0.1   -0.2   -0.2\n",
       "sms7   -0.1  -0.2    0.3  -0.3   0.1    0.1   0.1   1.0    0.1    0.4\n",
       "sms8!  -0.3  -0.1    0.5  -0.2  -0.4    0.3  -0.2   0.1    1.0    0.3\n",
       "sms9!  -0.3  -0.1    0.4  -0.1  -0.2    0.4  -0.2   0.4    0.3    1.0"
      ]
     },
     "execution_count": 22,
     "metadata": {},
     "output_type": "execute_result"
    }
   ],
   "source": [
    "import numpy as np\n",
    "\n",
    "svd_topic_vectors = (svd_topic_vectors.T /np.linalg.norm(svd_topic_vectors, axis=1)).T\n",
    "\n",
    "svd_topic_vectors.iloc[:10].dot(svd_topic_vectors.iloc[:10].T).round(1)"
   ]
  },
  {
   "cell_type": "markdown",
   "metadata": {},
   "source": [
    "Podemos ver que los sms *no spam* se relacionan **positivamente** con los *no spam*, los *no spam* **negativamente** con los *spam*, y los *spam* **positivamente** con los *spam*"
   ]
  }
 ],
 "metadata": {
  "kernelspec": {
   "display_name": "Python 3",
   "language": "python",
   "name": "python3"
  },
  "language_info": {
   "codemirror_mode": {
    "name": "ipython",
    "version": 3
   },
   "file_extension": ".py",
   "mimetype": "text/x-python",
   "name": "python",
   "nbconvert_exporter": "python",
   "pygments_lexer": "ipython3",
   "version": "3.7.7"
  }
 },
 "nbformat": 4,
 "nbformat_minor": 4
}
